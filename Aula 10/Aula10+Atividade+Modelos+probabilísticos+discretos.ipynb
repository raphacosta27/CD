{
 "cells": [
  {
   "cell_type": "markdown",
   "metadata": {},
   "source": [
    "___\n",
    "# Atividade: Modelos probabilísticos discretos e Dados\n",
    "___\n",
    "\n",
    "## Aula 10\n",
    "\n",
    "**Referência de Leitura:**\n",
    "1. Magalhães e Lima (7ª. Edição): Seções 3.2 e 3.3\n",
    "\n",
    "**Hoje:**\n",
    "1.\tDescrever modelos discretos quanto aos resultados teóricos.\n",
    "2.\tExplicar a utilização de modelos probabilísticos no contexto da literatura estatística.\n",
    "3.\tContrastar resultados teóricos e empíricos.\n",
    "4.\tFechamento do conteúdo.\n",
    "\n",
    "**Próxima aula:**\n",
    "1. Leitura prévia necessária: Magalhães e Lima (7ª. Edição): Seção 5.1 (pág. 137) e Seção 5.2 (pág. 146).\n",
    "___"
   ]
  },
  {
   "cell_type": "code",
   "execution_count": 32,
   "metadata": {
    "collapsed": true
   },
   "outputs": [],
   "source": [
    "%matplotlib inline\n",
    "import pandas as pd\n",
    "import matplotlib.pyplot as plt\n",
    "import numpy as np\n",
    "import math\n",
    "\n",
    "from scipy import stats #importa apenas as funções de estatísticas da biblioteca SciPy.\n",
    "import itertools #importante para gerar todos os resultados possíveis!!\n"
   ]
  },
  {
   "cell_type": "markdown",
   "metadata": {},
   "source": [
    "___\n",
    "## <font color='blue'>Exercício 1</font>\n",
    "\n",
    "Um resistor de 100K Ohms comprado na Santa Efigênia tem probabilidade de falha de 5%, segundo um fabricante ruim.\n",
    "\n",
    "Ainda, assuma os resistores falham de forma independente entre si.\n",
    "\n",
    "Um aluno de engenharia compra um pacote contendo $n$ resistores.\n",
    "\n",
    "1. Assuma $n=3$ e faça os itens a seguir.\n",
    "  1. Monte o espaço amostral que combine todos os resultados possíveis de Falha e não Falha desses $n$ resistores. Ainda, calcule a probabilidade de cada resultado do espaço amostral acontecer.\n",
    "  2. Se $Y$ representa o número de resistores que falham em um pacotinho com $n$ resistores, então construa a distribuição de probabilidades de $Y$.\n",
    "  3. Calcule a média e o desvio padrão de $Y$. Interprete os resultados.\n",
    "    \n",
    "2. Assuma $n=7$ e repita os itens A) a C) anteriores. No caso de $n=7$ ou maiores quantidades de resistores em um pacotinho, qual a viabilidade de construir a distribuição de probabilidades do número de resistores com defeitos quando $n$ não é pequeno?\n",
    "    \n",
    "3. Encontre a distribuição de probabilidades de cada possível valor de $Y$ utilizando a distribuição Binomial para $n=3$ e $n=7$. Calcule também $E(X)$ e $Var(X)$. Compare com as distribuições de probabilidades obtidas nos itens anteriores e discuta porque esses valores são iguais ou diferentes!\n",
    "    \n",
    "> **DISTRIBUIÇÃO BINOMIAL - TEORIA:**\n",
    "\n",
    "> É responsável por modelar uma variável $Y$ definida pelo Número de sucessos em $n$ tentativas, cuja probabilidade de sucesso é dada por $p$. Assim, dizemos que $Y$~$Bin(n,p)$ e lê-se: $Y$ segue uma distribuição binomial com $n$ tentativas e $p$ como probabilidade de sucesso. \n",
    "\n",
    "> A função de probabilidade nesse caso é dada por:\n",
    "$P(Y=y)=\\left(\n",
    "\\begin{array}{c}\n",
    "    n \\\\\n",
    "    y\n",
    "\\end{array}\\right) p^y (1-p)^{(n-y)}$\n",
    "\n",
    "> Para um experimento ter as probabilidade dos números de sucessos modeladas por uma distribuição Binomial, o mesmo precisa ter as seguintes propriedades:\n",
    "* é uma contagem de $n$ repetições (ou tentativas ou ensaios) idênticas;\n",
    "* cada repetição tem apenas 2 resultados possíveis: um é denominado sucesso e o outro, fracasso;\n",
    "* a probabilidade de sucesso para cada ensaio é denominada $p$ e será constante em cada repetição. Então, a probabilidade de fracasso $(1-p)$ também não varia de tentativa para tentativa;\n",
    "* As tentativas são independentes.\n",
    "\n",
    "\n",
    "> **DISTRIBUIÇÃO BINOMIAL - PYTHON:** <sup> [https://en.wikipedia.org/wiki/SciPy]\n",
    "\n",
    "> Algumas funções úteis para desenvolver seu código: <sup> [http://docs.scipy.org/doc/scipy-0.16.1/reference/generated/scipy.stats.binom.html]\n",
    "* $P(Y=y)$: `stats.binom.pmf(y, n, p)`\n",
    "* $P(Y\\leq y)$: `stats.binom.cdf(y, n, p)`\n",
    "* $E(X)$ e $Var(X)$: `stats.binom.stats(n, p, moments='mv')`\n"
   ]
  },
  {
   "cell_type": "code",
   "execution_count": 73,
   "metadata": {
    "collapsed": false
   },
   "outputs": [
    {
     "name": "stdout",
     "output_type": "stream",
     "text": [
      "Quando n=3\n",
      "Espaço Amostral:  [('NF', 'NF', 'NF'), ('NF', 'NF', 'F'), ('NF', 'F', 'NF'), ('NF', 'F', 'F'), ('F', 'NF', 'NF'), ('F', 'NF', 'F'), ('F', 'F', 'NF'), ('F', 'F', 'F')]\n",
      "P(Y=0) =  0.857375\n",
      "P(Y=1) =  0.135375\n",
      "P(Y=2) =  0.007125\n",
      "P(Y=3) =  0.000125\n",
      "Média:  0.15000000000000002\n",
      "Variância:  0.3774917217635375\n"
     ]
    }
   ],
   "source": [
    "#item 1\n",
    "n=3\n",
    "\n",
    "print(\"Quando n=3\")\n",
    "possibilidades = [\"NF\", \"F\"]\n",
    "prob = {\"NF\":0.95, \"F\": 0.05}\n",
    "arranjos = itertools.product(possibilidades, repeat=3)\n",
    "espaco_amostral1 = list(arranjos)\n",
    "print(\"Espaço Amostral: \", espaco_amostral1)\n",
    "\n",
    "Pb0 = stats.binom.pmf(0,3,0.05)\n",
    "print(\"P(Y=0) = \",Pb)\n",
    "Pb1 = stats.binom.pmf(1,3,0.05)\n",
    "print(\"P(Y=1) = \",Pb1)\n",
    "Pb2 = stats.binom.pmf(2,3,0.05)\n",
    "print(\"P(Y=2) = \",Pb2)\n",
    "Pb3 = stats.binom.pmf(3,3,0.05)\n",
    "print(\"P(Y=3) = \",Pb3)\n",
    "\n",
    "lista_de_prob = [Pb0,Pb1,Pb2,Pb3]\n",
    "\n",
    "media_desvio = stats.binom.stats(3,0.05, moments='mv')\n",
    "print(\"Média: \", media_desvio[0])\n",
    "print(\"Variância: \", math.sqrt(media_desvio[1]))"
   ]
  },
  {
   "cell_type": "code",
   "execution_count": 77,
   "metadata": {
    "collapsed": false
   },
   "outputs": [
    {
     "name": "stdout",
     "output_type": "stream",
     "text": [
      "Quando n=7\n",
      "Espaço Amostral:  [('NF', 'NF', 'NF', 'NF', 'NF', 'NF', 'NF'), ('NF', 'NF', 'NF', 'NF', 'NF', 'NF', 'F'), ('NF', 'NF', 'NF', 'NF', 'NF', 'F', 'NF'), ('NF', 'NF', 'NF', 'NF', 'NF', 'F', 'F'), ('NF', 'NF', 'NF', 'NF', 'F', 'NF', 'NF'), ('NF', 'NF', 'NF', 'NF', 'F', 'NF', 'F'), ('NF', 'NF', 'NF', 'NF', 'F', 'F', 'NF'), ('NF', 'NF', 'NF', 'NF', 'F', 'F', 'F'), ('NF', 'NF', 'NF', 'F', 'NF', 'NF', 'NF'), ('NF', 'NF', 'NF', 'F', 'NF', 'NF', 'F'), ('NF', 'NF', 'NF', 'F', 'NF', 'F', 'NF'), ('NF', 'NF', 'NF', 'F', 'NF', 'F', 'F'), ('NF', 'NF', 'NF', 'F', 'F', 'NF', 'NF'), ('NF', 'NF', 'NF', 'F', 'F', 'NF', 'F'), ('NF', 'NF', 'NF', 'F', 'F', 'F', 'NF'), ('NF', 'NF', 'NF', 'F', 'F', 'F', 'F'), ('NF', 'NF', 'F', 'NF', 'NF', 'NF', 'NF'), ('NF', 'NF', 'F', 'NF', 'NF', 'NF', 'F'), ('NF', 'NF', 'F', 'NF', 'NF', 'F', 'NF'), ('NF', 'NF', 'F', 'NF', 'NF', 'F', 'F'), ('NF', 'NF', 'F', 'NF', 'F', 'NF', 'NF'), ('NF', 'NF', 'F', 'NF', 'F', 'NF', 'F'), ('NF', 'NF', 'F', 'NF', 'F', 'F', 'NF'), ('NF', 'NF', 'F', 'NF', 'F', 'F', 'F'), ('NF', 'NF', 'F', 'F', 'NF', 'NF', 'NF'), ('NF', 'NF', 'F', 'F', 'NF', 'NF', 'F'), ('NF', 'NF', 'F', 'F', 'NF', 'F', 'NF'), ('NF', 'NF', 'F', 'F', 'NF', 'F', 'F'), ('NF', 'NF', 'F', 'F', 'F', 'NF', 'NF'), ('NF', 'NF', 'F', 'F', 'F', 'NF', 'F'), ('NF', 'NF', 'F', 'F', 'F', 'F', 'NF'), ('NF', 'NF', 'F', 'F', 'F', 'F', 'F'), ('NF', 'F', 'NF', 'NF', 'NF', 'NF', 'NF'), ('NF', 'F', 'NF', 'NF', 'NF', 'NF', 'F'), ('NF', 'F', 'NF', 'NF', 'NF', 'F', 'NF'), ('NF', 'F', 'NF', 'NF', 'NF', 'F', 'F'), ('NF', 'F', 'NF', 'NF', 'F', 'NF', 'NF'), ('NF', 'F', 'NF', 'NF', 'F', 'NF', 'F'), ('NF', 'F', 'NF', 'NF', 'F', 'F', 'NF'), ('NF', 'F', 'NF', 'NF', 'F', 'F', 'F'), ('NF', 'F', 'NF', 'F', 'NF', 'NF', 'NF'), ('NF', 'F', 'NF', 'F', 'NF', 'NF', 'F'), ('NF', 'F', 'NF', 'F', 'NF', 'F', 'NF'), ('NF', 'F', 'NF', 'F', 'NF', 'F', 'F'), ('NF', 'F', 'NF', 'F', 'F', 'NF', 'NF'), ('NF', 'F', 'NF', 'F', 'F', 'NF', 'F'), ('NF', 'F', 'NF', 'F', 'F', 'F', 'NF'), ('NF', 'F', 'NF', 'F', 'F', 'F', 'F'), ('NF', 'F', 'F', 'NF', 'NF', 'NF', 'NF'), ('NF', 'F', 'F', 'NF', 'NF', 'NF', 'F'), ('NF', 'F', 'F', 'NF', 'NF', 'F', 'NF'), ('NF', 'F', 'F', 'NF', 'NF', 'F', 'F'), ('NF', 'F', 'F', 'NF', 'F', 'NF', 'NF'), ('NF', 'F', 'F', 'NF', 'F', 'NF', 'F'), ('NF', 'F', 'F', 'NF', 'F', 'F', 'NF'), ('NF', 'F', 'F', 'NF', 'F', 'F', 'F'), ('NF', 'F', 'F', 'F', 'NF', 'NF', 'NF'), ('NF', 'F', 'F', 'F', 'NF', 'NF', 'F'), ('NF', 'F', 'F', 'F', 'NF', 'F', 'NF'), ('NF', 'F', 'F', 'F', 'NF', 'F', 'F'), ('NF', 'F', 'F', 'F', 'F', 'NF', 'NF'), ('NF', 'F', 'F', 'F', 'F', 'NF', 'F'), ('NF', 'F', 'F', 'F', 'F', 'F', 'NF'), ('NF', 'F', 'F', 'F', 'F', 'F', 'F'), ('F', 'NF', 'NF', 'NF', 'NF', 'NF', 'NF'), ('F', 'NF', 'NF', 'NF', 'NF', 'NF', 'F'), ('F', 'NF', 'NF', 'NF', 'NF', 'F', 'NF'), ('F', 'NF', 'NF', 'NF', 'NF', 'F', 'F'), ('F', 'NF', 'NF', 'NF', 'F', 'NF', 'NF'), ('F', 'NF', 'NF', 'NF', 'F', 'NF', 'F'), ('F', 'NF', 'NF', 'NF', 'F', 'F', 'NF'), ('F', 'NF', 'NF', 'NF', 'F', 'F', 'F'), ('F', 'NF', 'NF', 'F', 'NF', 'NF', 'NF'), ('F', 'NF', 'NF', 'F', 'NF', 'NF', 'F'), ('F', 'NF', 'NF', 'F', 'NF', 'F', 'NF'), ('F', 'NF', 'NF', 'F', 'NF', 'F', 'F'), ('F', 'NF', 'NF', 'F', 'F', 'NF', 'NF'), ('F', 'NF', 'NF', 'F', 'F', 'NF', 'F'), ('F', 'NF', 'NF', 'F', 'F', 'F', 'NF'), ('F', 'NF', 'NF', 'F', 'F', 'F', 'F'), ('F', 'NF', 'F', 'NF', 'NF', 'NF', 'NF'), ('F', 'NF', 'F', 'NF', 'NF', 'NF', 'F'), ('F', 'NF', 'F', 'NF', 'NF', 'F', 'NF'), ('F', 'NF', 'F', 'NF', 'NF', 'F', 'F'), ('F', 'NF', 'F', 'NF', 'F', 'NF', 'NF'), ('F', 'NF', 'F', 'NF', 'F', 'NF', 'F'), ('F', 'NF', 'F', 'NF', 'F', 'F', 'NF'), ('F', 'NF', 'F', 'NF', 'F', 'F', 'F'), ('F', 'NF', 'F', 'F', 'NF', 'NF', 'NF'), ('F', 'NF', 'F', 'F', 'NF', 'NF', 'F'), ('F', 'NF', 'F', 'F', 'NF', 'F', 'NF'), ('F', 'NF', 'F', 'F', 'NF', 'F', 'F'), ('F', 'NF', 'F', 'F', 'F', 'NF', 'NF'), ('F', 'NF', 'F', 'F', 'F', 'NF', 'F'), ('F', 'NF', 'F', 'F', 'F', 'F', 'NF'), ('F', 'NF', 'F', 'F', 'F', 'F', 'F'), ('F', 'F', 'NF', 'NF', 'NF', 'NF', 'NF'), ('F', 'F', 'NF', 'NF', 'NF', 'NF', 'F'), ('F', 'F', 'NF', 'NF', 'NF', 'F', 'NF'), ('F', 'F', 'NF', 'NF', 'NF', 'F', 'F'), ('F', 'F', 'NF', 'NF', 'F', 'NF', 'NF'), ('F', 'F', 'NF', 'NF', 'F', 'NF', 'F'), ('F', 'F', 'NF', 'NF', 'F', 'F', 'NF'), ('F', 'F', 'NF', 'NF', 'F', 'F', 'F'), ('F', 'F', 'NF', 'F', 'NF', 'NF', 'NF'), ('F', 'F', 'NF', 'F', 'NF', 'NF', 'F'), ('F', 'F', 'NF', 'F', 'NF', 'F', 'NF'), ('F', 'F', 'NF', 'F', 'NF', 'F', 'F'), ('F', 'F', 'NF', 'F', 'F', 'NF', 'NF'), ('F', 'F', 'NF', 'F', 'F', 'NF', 'F'), ('F', 'F', 'NF', 'F', 'F', 'F', 'NF'), ('F', 'F', 'NF', 'F', 'F', 'F', 'F'), ('F', 'F', 'F', 'NF', 'NF', 'NF', 'NF'), ('F', 'F', 'F', 'NF', 'NF', 'NF', 'F'), ('F', 'F', 'F', 'NF', 'NF', 'F', 'NF'), ('F', 'F', 'F', 'NF', 'NF', 'F', 'F'), ('F', 'F', 'F', 'NF', 'F', 'NF', 'NF'), ('F', 'F', 'F', 'NF', 'F', 'NF', 'F'), ('F', 'F', 'F', 'NF', 'F', 'F', 'NF'), ('F', 'F', 'F', 'NF', 'F', 'F', 'F'), ('F', 'F', 'F', 'F', 'NF', 'NF', 'NF'), ('F', 'F', 'F', 'F', 'NF', 'NF', 'F'), ('F', 'F', 'F', 'F', 'NF', 'F', 'NF'), ('F', 'F', 'F', 'F', 'NF', 'F', 'F'), ('F', 'F', 'F', 'F', 'F', 'NF', 'NF'), ('F', 'F', 'F', 'F', 'F', 'NF', 'F'), ('F', 'F', 'F', 'F', 'F', 'F', 'NF'), ('F', 'F', 'F', 'F', 'F', 'F', 'F')]\n",
      "P(Y=0) =  0.698337296094\n",
      "P(Y=1) =  0.257282161719\n",
      "P(Y=2) =  0.0406234992188\n",
      "P(Y=3) =  0.00356346484375\n",
      "P(Y=4) =  0.00018755078125\n",
      "P(Y=5) =  5.92265625e-06\n",
      "P(Y=6) =  1.0390625e-07\n",
      "P(Y=7) =  7.8125e-10\n",
      "Média:  0.35000000000000003\n",
      "Desvio Padrão:  0.5766281297335398\n"
     ]
    }
   ],
   "source": [
    "#item 1\n",
    "n=7\n",
    "\n",
    "print(\"Quando n=7\")\n",
    "possibilidades = [\"NF\", \"F\"]\n",
    "prob = {\"NF\":0.95, \"F\": 0.05}\n",
    "arranjos = itertools.product(possibilidades, repeat=7)\n",
    "espaco_amostral2 = list(arranjos)\n",
    "print(\"Espaço Amostral: \", espaco_amostral2)\n",
    "\n",
    "Pb = stats.binom.pmf(0,7,0.05)\n",
    "print(\"P(Y=0) = \",Pb)\n",
    "Pb1 = stats.binom.pmf(1,7,0.05)\n",
    "print(\"P(Y=1) = \",Pb1)\n",
    "Pb2 = stats.binom.pmf(2,7,0.05)\n",
    "print(\"P(Y=2) = \",Pb2)\n",
    "Pb3 = stats.binom.pmf(3,7,0.05)\n",
    "print(\"P(Y=3) = \",Pb3)\n",
    "Pb4 = stats.binom.pmf(4,7,0.05)\n",
    "print(\"P(Y=4) = \",Pb4)\n",
    "Pb5 = stats.binom.pmf(5,7,0.05)\n",
    "print(\"P(Y=5) = \",Pb5)\n",
    "Pb6 = stats.binom.pmf(6,7,0.05)\n",
    "print(\"P(Y=6) = \",Pb6)\n",
    "Pb7 = stats.binom.pmf(7,7,0.05)\n",
    "print(\"P(Y=7) = \",Pb7)\n",
    "\n",
    "media_desvio = stats.binom.stats(7,0.05, moments='mv')\n",
    "print(\"Média: \", media_desvio[0])\n",
    "print(\"Desvio Padrão: \", math.sqrt(media_desvio[1]))"
   ]
  },
  {
   "cell_type": "markdown",
   "metadata": {},
   "source": [
    "3. Nenhuma. A partir de n=7 o espaço amostral fica tão grande que se torna inviável trabalhar com tantas amostras."
   ]
  },
  {
   "cell_type": "markdown",
   "metadata": {
    "collapsed": true
   },
   "source": [
    "___\n",
    "## <font color='blue'>Exercício 2</font>\n",
    "\n",
    "Uma fábrica produz determinado veículo. O gerente de vendas fechou um negócio que implica na produção de pelo menos 110 unidades nos próximos dois meses. Para isso, será construída uma nova linha de montagem com capacidade para produzir em média 50 veículos por mês (considere meses de 30 dias). A linha funcionará ininterruptamente. Além disso, apenas um veículo é produzido por vez. Considere que um modelo Poisson seja adequado para a quantidade de veículos produzidos.\n",
    "   1. Qual a probabilidade  da produção ser igual a 100 veículos nos próximos dois meses?\n",
    "   2. Qual a probabilidade  da produção ser de pelo menos 100 veículos nos próximos dois meses?\n",
    "   3. Qual a probabilidade da produção ser entre 100 e 110 veículos nos próximos dois meses?\n",
    "   4. Se forem produzidos de pelo menos 100 veículos no próximo mês, qual a probabilidade do gerente cumprir a meta negociada?\n",
    "   5. Caso o prazo seja cumprido, o lucro será da ordem de $250$ mil, caso não seja, o lucro cai para $200$ mil. Qual é o lucro esperado e seu desvio-padrão?\n",
    "\n",
    "**Observação:** Explore os comandos de `stats.poisson`. <sup>[http://docs.scipy.org/doc/scipy/reference/generated/scipy.stats.poisson.html]\n"
   ]
  },
  {
   "cell_type": "code",
   "execution_count": null,
   "metadata": {
    "collapsed": true
   },
   "outputs": [],
   "source": []
  },
  {
   "cell_type": "markdown",
   "metadata": {},
   "source": [
    "___\n",
    "## <font color='blue'>Exercício 3</font> \n",
    "### <font color='red'>**Check para dia 13/09 em DUPLA **</font>\n",
    "\n",
    "Esse exercício irá explorar uma modelagem de dados reais.\n",
    "\n",
    "> **Confira alguns itens obrigatórios verificados durante a vistoria do Detran**\n",
    "\n",
    "> *Todos os veículos, novos ou velhos, precisam passar por uma vistoria todos os anos. (...) O motorista precisa estar atento a alguns itens obrigatórios. Tudo deve funcionar perfeitamente, apresentar bom estado de conservação e estar dentro do prazo de validade.*\n",
    "\n",
    "> <sup>Fonte: http://extra.globo.com/noticias/brasil/transito-seguro/confira-alguns-itens-obrigatorios-verificados-durante-vistoria-do-detran-10190355.html</sup>\n",
    "\n",
    "Essa matéria lista 14 itens que são inspecionados pelo Detran, dentre os quais têm-se: extintor de incêndio deve estar dentro do prazo de validade; pneus devem estar em bom estado de conservação; buzina deve funcionar perfeitamente; e cintos de segurança para todos os ocupantes do carro. Se, no final das contas, todos os 14 itens estiverem funcionando perfeitamente, o motorista irá feliz para casa assegurado de que seu carro está sem problemas com a vistoria.\n",
    "\n",
    "1. A base de dados `Carros.txt` apresenta, para cada um dos três mil carros de passeio vistoriados, duas informações: tipo de carro (1: Popular e 2: Não Popular) e quantidade de itens vistoriados em não conformidade (que pode variar de 0 a 14). \n",
    "    1. Considerando todos os carros, analise a quantidade de itens vistoriados em não conformidade. Pela tabela de frequências relativas, calcule a média e variância dessa quantidade. Interprete-os.\n",
    "    2. Assuma que a variável *Quantidade de itens em não conformidade* possa ser ajustada pelo modelo Binomial com parâmetros $n=14$ e $p=0,10$. Interprete esses parâmetros para o problema em questão e, ainda, discuta se as propriedades da distribuição Binomial estão satisfeitas para o problema aqui me questão.\n",
    "    \n",
    "    **Independente da sua resposta anterior, considere que a distribuição binomial seja adequada para modelar a variável de interesse nos próximos itens!**\n",
    "    3. Utilizando o método `stats.binom.pmf`, obtenha a probabilidade de cada uma das quantidades de itens em não conformidade quando $n=14$ e $p=0,10$. Calcule o valor esperado e a variância da quantidade de itens em não conformidade utilizando o método `stats.binom.stats` e via resultado da Tabela 4.4 do Magalhães e Lima (pág. 125).\n",
    "    4. Compare as probabilidades teóricas com as frequências relativas observadas nos dados. Para isso, tem-se, por exemplo, as duas opções abaixo para comparar se os resultados empíricos se encaixam com o modelo teórico proposto. \n",
    "        - A primeira opção gráfica contrasta a frequência relativa e a probabilidade teórica para uma determinada quantidade de itens em não conformidade! Vide Figura 3.4 do livro Magalhães e Lima (pág. 87). Ou seja, essa opção contrasta a frequência relativa em um valor de $y$ e a probabilidade pontual $P(Y=y)$.\n",
    "        - A segunda contrasta a frequência relativa acumulada com a probabilidade acumulada até determinada quantidade de itens em não conformidade. Ou seja, compara a frequência relativa acumulada até $y$ com a probabilidade acumulada $P(Y\\leq y)$.\n",
    "    Construa os gráficos de acordo com as duas opções e refine sua conclusão quanto ao uso do modelo teórico para ajustar a variável em questão!\n",
    "    5. Na prática, qual a necessidade de um modelo probabilístico já que se têm os dados observados?\n",
    "    6. Considerando apenas os carros populares, o modelo Binomial com parâmetros $n=14$ e $p=0,10$ é adequado para ajustar a variável Quantidade de itens em não conformidade? Se sim, justifique; caso não, sugira novos valores para os parâmetros da distribuição ajuste aos dados."
   ]
  },
  {
   "cell_type": "code",
   "execution_count": 39,
   "metadata": {
    "collapsed": false
   },
   "outputs": [
    {
     "name": "stdout",
     "output_type": "stream",
     "text": [
      "Esperamos trabalhar no diretório\n",
      "C:\\Users\\Raphael\\Desktop\\Insper\\2_semestre\\Ciência dos Dados\\CDEng\\aula10\n"
     ]
    }
   ],
   "source": [
    "import os\n",
    "print('Esperamos trabalhar no diretório')\n",
    "print(os.getcwd())\n",
    "carros = pd.read_table('Carros.txt', sep=' ')"
   ]
  },
  {
   "cell_type": "markdown",
   "metadata": {},
   "source": [
    "A"
   ]
  },
  {
   "cell_type": "code",
   "execution_count": 78,
   "metadata": {
    "collapsed": false
   },
   "outputs": [
    {
     "name": "stdout",
     "output_type": "stream",
     "text": [
      "Média:  11.111111111111109\n",
      "Variância:  150.26123456790123\n"
     ]
    }
   ],
   "source": [
    "itens_nao = carros.Quantidade.value_counts(True)*100\n",
    "tabela = pd.Series(itens_nao)\n",
    "media = np.mean(tabela)\n",
    "variancia = np.var(tabela)\n",
    "print(\"Média: \", media)\n",
    "print(\"Variância: \", variancia)"
   ]
  },
  {
   "cell_type": "markdown",
   "metadata": {},
   "source": [
    "B"
   ]
  },
  {
   "cell_type": "code",
   "execution_count": 97,
   "metadata": {
    "collapsed": false
   },
   "outputs": [
    {
     "name": "stdout",
     "output_type": "stream",
     "text": [
      "para y=1:  0.355861215966\n",
      "para y=0:  0.22876792455\n",
      "para y=2:  0.257010878198\n",
      "para y=3:  0.114227056977\n"
     ]
    },
    {
     "data": {
      "text/plain": [
       "1    31.666667\n",
       "0    28.800000\n",
       "2    22.133333\n",
       "3    10.833333\n",
       "4     4.633333\n",
       "5     1.566667\n",
       "6     0.266667\n",
       "7     0.066667\n",
       "8     0.033333\n",
       "Name: Quantidade, dtype: float64"
      ]
     },
     "execution_count": 97,
     "metadata": {},
     "output_type": "execute_result"
    }
   ],
   "source": [
    "binomio = stats.binom.pmf(1,14,0.1)\n",
    "print(\"para y=1: \", binomio )\n",
    "binomio = stats.binom.pmf(0,14,0.1)\n",
    "print(\"para y=0: \", binomio )\n",
    "binomio = stats.binom.pmf(2,14,0.1)\n",
    "print(\"para y=2: \", binomio )\n",
    "binomio = stats.binom.pmf(3,14,0.1)\n",
    "print(\"para y=3: \", binomio )\n",
    "tabela"
   ]
  },
  {
   "cell_type": "markdown",
   "metadata": {},
   "source": [
    "Como podemos observar, os valores observados por binomio se aproximam consideravelmente dos valores calculados pela frequência relativa. Portanto, a análise binomial é válida ja que nosso espaço amostral é 14."
   ]
  },
  {
   "cell_type": "markdown",
   "metadata": {},
   "source": [
    "C"
   ]
  },
  {
   "cell_type": "code",
   "execution_count": 102,
   "metadata": {
    "collapsed": false
   },
   "outputs": [
    {
     "name": "stdout",
     "output_type": "stream",
     "text": [
      "f(x=0) = 0.22876792454960998\n",
      "f(x=1) = 0.3558612159660614\n",
      "f(x=2) = 0.2570108781977114\n",
      "f(x=3) = 0.11422705697676022\n",
      "f(x=4) = 0.03490271185401001\n",
      "f(x=5) = 0.007756158189780027\n",
      "f(x=6) = 0.0012926930316300015\n",
      "f(x=7) = 0.0001641514960800007\n",
      "f(x=8) = 1.5959173230000058e-05\n",
      "f(x=9) = 1.1821609800000021e-06\n",
      "f(x=10) = 6.56756100000003e-08\n",
      "f(x=11) = 2.653560000000011e-09\n",
      "f(x=12) = 7.371000000000037e-11\n",
      "f(x=13) = 1.2600000000000108e-12\n",
      "f(x=14) = 1.0000000000000058e-14\n"
     ]
    }
   ],
   "source": [
    "for i in range(15):\n",
    "    binomio = stats.binom.pmf(i,14,0.1)\n",
    "    print(\"f(x={0}) = {1}\".format(i ,binomio) )"
   ]
  },
  {
   "cell_type": "code",
   "execution_count": 107,
   "metadata": {
    "collapsed": false
   },
   "outputs": [
    {
     "name": "stdout",
     "output_type": "stream",
     "text": [
      "Para x=0\n",
      "Média: 0.0\n",
      "Variância: 0.0\n",
      "__________________________________________\n",
      "Para x=1\n",
      "Média: 0.1\n",
      "Variância: 0.09000000000000001\n",
      "__________________________________________\n",
      "Para x=2\n",
      "Média: 0.2\n",
      "Variância: 0.18000000000000002\n",
      "__________________________________________\n",
      "Para x=3\n",
      "Média: 0.30000000000000004\n",
      "Variância: 0.2700000000000001\n",
      "__________________________________________\n",
      "Para x=4\n",
      "Média: 0.4\n",
      "Variância: 0.36000000000000004\n",
      "__________________________________________\n",
      "Para x=5\n",
      "Média: 0.5\n",
      "Variância: 0.45\n",
      "__________________________________________\n",
      "Para x=6\n",
      "Média: 0.6000000000000001\n",
      "Variância: 0.5400000000000001\n",
      "__________________________________________\n",
      "Para x=7\n",
      "Média: 0.7000000000000001\n",
      "Variância: 0.6300000000000001\n",
      "__________________________________________\n",
      "Para x=8\n",
      "Média: 0.8\n",
      "Variância: 0.7200000000000001\n",
      "__________________________________________\n",
      "Para x=9\n",
      "Média: 0.9\n",
      "Variância: 0.81\n",
      "__________________________________________\n",
      "Para x=10\n",
      "Média: 1.0\n",
      "Variância: 0.9\n",
      "__________________________________________\n",
      "Para x=11\n",
      "Média: 1.1\n",
      "Variância: 0.9900000000000001\n",
      "__________________________________________\n",
      "Para x=12\n",
      "Média: 1.2000000000000002\n",
      "Variância: 1.0800000000000003\n",
      "__________________________________________\n",
      "Para x=13\n",
      "Média: 1.3\n",
      "Variância: 1.1700000000000002\n",
      "__________________________________________\n",
      "Para x=14\n",
      "Média: 1.4000000000000001\n",
      "Variância: 1.2600000000000002\n",
      "__________________________________________\n"
     ]
    }
   ],
   "source": [
    "for i in range(15): \n",
    "    print(\"Para x={0}\".format(i))\n",
    "    media_desvio = stats.binom.stats(i,0.1, moments='mv')\n",
    "    print(\"Média: {0}\".format(media_desvio[0]))\n",
    "    print(\"Variância: {0}\".format(media_desvio[1]))\n",
    "    print(\"__________________________________________\")"
   ]
  },
  {
   "cell_type": "code",
   "execution_count": 128,
   "metadata": {
    "collapsed": false
   },
   "outputs": [
    {
     "name": "stdout",
     "output_type": "stream",
     "text": [
      "Pelo Magalhães a média é igual a n.p e a variância é igual a n.p.(1 - p), portanto: \n",
      "Para x = 0\n",
      "Média: 0.0 \n",
      "Variância: 0.0 \n",
      "___________________________________\n",
      "Para x = 1\n",
      "Média: 0.1 \n",
      "Variância: 0.09000000000000001 \n",
      "___________________________________\n",
      "Para x = 2\n",
      "Média: 0.2 \n",
      "Variância: 0.18000000000000002 \n",
      "___________________________________\n",
      "Para x = 3\n",
      "Média: 0.30000000000000004 \n",
      "Variância: 0.2700000000000001 \n",
      "___________________________________\n",
      "Para x = 4\n",
      "Média: 0.4 \n",
      "Variância: 0.36000000000000004 \n",
      "___________________________________\n",
      "Para x = 5\n",
      "Média: 0.5 \n",
      "Variância: 0.45 \n",
      "___________________________________\n",
      "Para x = 6\n",
      "Média: 0.6000000000000001 \n",
      "Variância: 0.5400000000000001 \n",
      "___________________________________\n",
      "Para x = 7\n",
      "Média: 0.7000000000000001 \n",
      "Variância: 0.6300000000000001 \n",
      "___________________________________\n",
      "Para x = 8\n",
      "Média: 0.8 \n",
      "Variância: 0.7200000000000001 \n",
      "___________________________________\n",
      "Para x = 9\n",
      "Média: 0.9 \n",
      "Variância: 0.81 \n",
      "___________________________________\n",
      "Para x = 10\n",
      "Média: 1.0 \n",
      "Variância: 0.9 \n",
      "___________________________________\n",
      "Para x = 11\n",
      "Média: 1.1 \n",
      "Variância: 0.9900000000000001 \n",
      "___________________________________\n",
      "Para x = 12\n",
      "Média: 1.2000000000000002 \n",
      "Variância: 1.0800000000000003 \n",
      "___________________________________\n",
      "Para x = 13\n",
      "Média: 1.3 \n",
      "Variância: 1.1700000000000002 \n",
      "___________________________________\n",
      "Para x = 14\n",
      "Média: 1.4000000000000001 \n",
      "Variância: 1.2600000000000002 \n",
      "___________________________________\n"
     ]
    }
   ],
   "source": [
    "print(\"Pelo Magalhães a média é igual a n.p e a variância é igual a n.p.(1 - p), portanto: \")\n",
    "for i in range (15):\n",
    "    print(\"Para x = {0}\".format (i))\n",
    "    media = i*0.1\n",
    "    print(\"Média: {0} \".format(media))\n",
    "    variancia = (i*0.1*(1 - 0.1))\n",
    "    print(\"Variância: {0} \".format(variancia))\n",
    "    print(\"___________________________________\")"
   ]
  },
  {
   "cell_type": "code",
   "execution_count": 160,
   "metadata": {
    "collapsed": false
   },
   "outputs": [
    {
     "name": "stdout",
     "output_type": "stream",
     "text": [
      "Para cálculo de frequências relativas, teremos:\n",
      "Frequencia relativa acumulada:  28.8\n",
      "Probabilidade de y<= 0: 0.2287679245496101\n",
      "________________________________________________\n",
      "Frequencia relativa acumulada:  60.4666666667\n",
      "Probabilidade de y<= 1: 0.58462914051567\n",
      "________________________________________________\n",
      "Frequencia relativa acumulada:  82.6\n",
      "Probabilidade de y<= 2: 0.8416400187133801\n",
      "________________________________________________\n",
      "Frequencia relativa acumulada:  93.4333333333\n",
      "Probabilidade de y<= 3: 0.9558670756901401\n",
      "________________________________________________\n",
      "Frequencia relativa acumulada:  98.0666666667\n",
      "Probabilidade de y<= 4: 0.99076978754415\n",
      "________________________________________________\n",
      "Frequencia relativa acumulada:  99.6333333333\n",
      "Probabilidade de y<= 5: 0.99852594573393\n",
      "________________________________________________\n",
      "Frequencia relativa acumulada:  99.9\n",
      "Probabilidade de y<= 6: 0.99981863876556\n",
      "________________________________________________\n",
      "Frequencia relativa acumulada:  99.9666666667\n",
      "Probabilidade de y<= 7: 0.99998279026164\n",
      "________________________________________________\n",
      "Frequencia relativa acumulada:  100.0\n",
      "Probabilidade de y<= 8: 0.99999874943487\n",
      "________________________________________________\n"
     ]
    }
   ],
   "source": [
    "print(\"Para cálculo de frequências relativas, teremos:\")\n",
    "\n",
    "lista = []\n",
    "soma = 0\n",
    "for i in range (len(tabela)):\n",
    "    soma += tabela[i]\n",
    "    lista.append(soma)\n",
    "    print(\"Frequencia relativa acumulada: \", soma)\n",
    "    prob = stats.binom.cdf(i, 14, 0.1)\n",
    "    print(\"Probabilidade de y<= {0}: {1}\" .format(i, prob))\n",
    "    print(\"________________________________________________\")\n",
    "\n",
    "    "
   ]
  },
  {
   "cell_type": "markdown",
   "metadata": {},
   "source": [
    "Na prática, um modelo probabílistico serviria apneas de cofirmação dos dados obtidos ná prática, ja que a frequência relativa, dado que ela nunca será exatamente igual a teórica (por isso chama-se teórica), coincide muito com os valores obtidos com as equações."
   ]
  },
  {
   "cell_type": "code",
   "execution_count": 159,
   "metadata": {
    "collapsed": false
   },
   "outputs": [
    {
     "data": {
      "text/plain": [
       "2    531\n",
       "1    511\n",
       "3    300\n",
       "0    269\n",
       "4    131\n",
       "5     47\n",
       "6      8\n",
       "7      2\n",
       "8      1\n",
       "Name: Quantidade, dtype: int64"
      ]
     },
     "execution_count": 159,
     "metadata": {},
     "output_type": "execute_result"
    }
   ],
   "source": [
    "popular = carros.Quantidade[carros.Tipo == 1]\n",
    "popular.value_counts()"
   ]
  },
  {
   "cell_type": "markdown",
   "metadata": {},
   "source": [
    "Como podemos observar, quando limitamos o tipo de carro para Popular, o total de número de itens em Não Conformidade limita-se a 8. Utilizando n=14, teríamos 6 números com probabilidade igual a 0, ou seja, evento impossível, podendo limitar n=8."
   ]
  },
  {
   "cell_type": "code",
   "execution_count": null,
   "metadata": {
    "collapsed": true
   },
   "outputs": [],
   "source": []
  }
 ],
 "metadata": {
  "anaconda-cloud": {},
  "kernelspec": {
   "display_name": "Python 3",
   "language": "python",
   "name": "python3"
  },
  "language_info": {
   "codemirror_mode": {
    "name": "ipython",
    "version": 3
   },
   "file_extension": ".py",
   "mimetype": "text/x-python",
   "name": "python",
   "nbconvert_exporter": "python",
   "pygments_lexer": "ipython3",
   "version": "3.5.2"
  }
 },
 "nbformat": 4,
 "nbformat_minor": 0
}
