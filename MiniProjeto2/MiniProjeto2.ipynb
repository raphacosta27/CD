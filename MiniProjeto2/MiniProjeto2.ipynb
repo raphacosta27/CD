{
 "cells": [
  {
   "cell_type": "markdown",
   "metadata": {},
   "source": [
    "# MiniProjeto 2\n"
   ]
  },
  {
   "cell_type": "markdown",
   "metadata": {},
   "source": [
    "Raphael Andre Marques da Costa"
   ]
  },
  {
   "cell_type": "markdown",
   "metadata": {},
   "source": [
    "# 1"
   ]
  },
  {
   "cell_type": "code",
   "execution_count": 84,
   "metadata": {
    "collapsed": false
   },
   "outputs": [],
   "source": [
    "import pandas as pd\n",
    "import scipy.stats as stats\n",
    "import numpy as np\n",
    "import matplotlib.pyplot as plt\n",
    "%matplotlib inline"
   ]
  },
  {
   "cell_type": "code",
   "execution_count": 85,
   "metadata": {
    "collapsed": false
   },
   "outputs": [
    {
     "name": "stdout",
     "output_type": "stream",
     "text": [
      "Distribuição escolhida: Poisson\n"
     ]
    }
   ],
   "source": [
    "print(\"Distribuição escolhida: Poisson\")"
   ]
  },
  {
   "cell_type": "code",
   "execution_count": 86,
   "metadata": {
    "collapsed": false
   },
   "outputs": [],
   "source": [
    "lamb = 3 #lambda utilizado"
   ]
  },
  {
   "cell_type": "code",
   "execution_count": 87,
   "metadata": {
    "collapsed": false
   },
   "outputs": [],
   "source": [
    "valores = stats.poisson.rvs(mu=lamb, loc=0, size=1000000) #gerando valores"
   ]
  },
  {
   "cell_type": "code",
   "execution_count": 103,
   "metadata": {
    "collapsed": false
   },
   "outputs": [
    {
     "name": "stdout",
     "output_type": "stream",
     "text": [
      "Média populacional:  2.997863\n",
      "Variância populacional:  3.00522843323\n"
     ]
    }
   ],
   "source": [
    "media = np.mean(valores) #média da distribuição\n",
    "var = np.var(valores) #Variância da distribuição\n",
    "print(\"Média populacional: \", media)\n",
    "print(\"Variância populacional: \", var)"
   ]
  },
  {
   "cell_type": "markdown",
   "metadata": {},
   "source": [
    "# 2"
   ]
  },
  {
   "cell_type": "markdown",
   "metadata": {},
   "source": [
    "n = 2"
   ]
  },
  {
   "cell_type": "code",
   "execution_count": 89,
   "metadata": {
    "collapsed": false
   },
   "outputs": [],
   "source": [
    "n = 2 #Número de valores sorteados da distribuição\n",
    "sorteio = np.random.choice(valores, n)"
   ]
  },
  {
   "cell_type": "code",
   "execution_count": 90,
   "metadata": {
    "collapsed": false
   },
   "outputs": [
    {
     "name": "stdout",
     "output_type": "stream",
     "text": [
      "Média da amostra n=2:  4.5\n"
     ]
    }
   ],
   "source": [
    "media2 = np.mean(sorteio)\n",
    "print(\"Média da amostra n=2: \", media2)"
   ]
  },
  {
   "cell_type": "code",
   "execution_count": 102,
   "metadata": {
    "collapsed": false,
    "scrolled": false
   },
   "outputs": [
    {
     "name": "stdout",
     "output_type": "stream",
     "text": [
      "10000\n",
      "Média de todas as médias tomadas:  3.001464\n",
      "Média populacional:  3.0\n"
     ]
    },
    {
     "data": {
      "text/plain": [
       "(array([  1.20000000e-03,   6.04000000e-02,   5.52000000e-01,\n",
       "          1.31960000e+00,   1.45320000e+00,   5.15200000e-01,\n",
       "          9.12000000e-02,   6.80000000e-03,   0.00000000e+00,\n",
       "          4.00000000e-04]),\n",
       " array([ 2.  ,  2.25,  2.5 ,  2.75,  3.  ,  3.25,  3.5 ,  3.75,  4.  ,\n",
       "         4.25,  4.5 ]),\n",
       " <a list of 10 Patch objects>)"
      ]
     },
     "execution_count": 102,
     "metadata": {},
     "output_type": "execute_result"
    },
    {
     "data": {
      "image/png": "[encoded data removed]",
      "text/plain": [
       "<matplotlib.figure.Figure at 0xbba673e0f0>"
      ]
     },
     "metadata": {},
     "output_type": "display_data"
    }
   ],
   "source": [
    "medias = [media2] #Lista de médias dos valores sorteados\n",
    "for i in range(1,10000):\n",
    "    sorteio = sorteio = np.random.choice(valores, n) #Fazendo o sorteio dos números da lista de valores\n",
    "    media = np.mean(sorteio)\n",
    "    medias.append(media)\n",
    "mediafin = np.mean(medias)\n",
    "print(len(medias))\n",
    "print(\"Média de todas as médias tomadas: \", mediafin)\n",
    "print(\"Média populacional: \", media)\n",
    "plt.hist(medias, normed=1)"
   ]
  },
  {
   "cell_type": "markdown",
   "metadata": {},
   "source": [
    "A média das amostras tomadas é muito próxima da média real populacional, assim como previsto no Teorema do Limite Central (TLC)"
   ]
  },
  {
   "cell_type": "markdown",
   "metadata": {},
   "source": [
    "# 3"
   ]
  },
  {
   "cell_type": "markdown",
   "metadata": {},
   "source": [
    "n = 4"
   ]
  },
  {
   "cell_type": "code",
   "execution_count": 92,
   "metadata": {
    "collapsed": false
   },
   "outputs": [
    {
     "name": "stdout",
     "output_type": "stream",
     "text": [
      "10000\n",
      "Média de todas as médias tomadas:  2.990975\n"
     ]
    },
    {
     "data": {
      "text/plain": [
       "(array([ 0.01155556,  0.11777778,  0.39792593,  0.33155556,  0.39807407,\n",
       "         0.16666667,  0.03851852,  0.01718519,  0.00162963,  0.00059259]),\n",
       " array([ 0.5  ,  1.175,  1.85 ,  2.525,  3.2  ,  3.875,  4.55 ,  5.225,\n",
       "         5.9  ,  6.575,  7.25 ]),\n",
       " <a list of 10 Patch objects>)"
      ]
     },
     "execution_count": 92,
     "metadata": {},
     "output_type": "execute_result"
    },
    {
     "data": {
      "image/png": "[encoded data removed]",
      "text/plain": [
       "<matplotlib.figure.Figure at 0xbba5334c50>"
      ]
     },
     "metadata": {},
     "output_type": "display_data"
    }
   ],
   "source": [
    "medias = [media2]\n",
    "n=4\n",
    "for i in range(1,10000):\n",
    "    sorteio = sorteio = np.random.choice(valores, n)\n",
    "    media = np.mean(sorteio)\n",
    "    medias.append(media)\n",
    "mediafin = np.mean(medias)\n",
    "print(len(medias))\n",
    "print(\"Média de todas as médias tomadas: \", mediafin)\n",
    "plt.hist(medias, normed=1)"
   ]
  },
  {
   "cell_type": "markdown",
   "metadata": {},
   "source": [
    "n = 20"
   ]
  },
  {
   "cell_type": "code",
   "execution_count": 93,
   "metadata": {
    "collapsed": false
   },
   "outputs": [
    {
     "name": "stdout",
     "output_type": "stream",
     "text": [
      "10000\n",
      "Média de todas as médias tomadas:  2.9989\n"
     ]
    },
    {
     "data": {
      "text/plain": [
       "(array([ 0.00237288,  0.02745763,  0.1959322 ,  0.59389831,  0.99694915,\n",
       "         0.90372881,  0.46983051,  0.16101695,  0.03389831,  0.00474576]),\n",
       " array([ 1.55 ,  1.845,  2.14 ,  2.435,  2.73 ,  3.025,  3.32 ,  3.615,\n",
       "         3.91 ,  4.205,  4.5  ]),\n",
       " <a list of 10 Patch objects>)"
      ]
     },
     "execution_count": 93,
     "metadata": {},
     "output_type": "execute_result"
    },
    {
     "data": {
      "image/png": "[encoded data removed]",
      "text/plain": [
       "<matplotlib.figure.Figure at 0xbba4aed278>"
      ]
     },
     "metadata": {},
     "output_type": "display_data"
    }
   ],
   "source": [
    "medias = [media2]\n",
    "n=20\n",
    "for i in range(1,10000):\n",
    "    sorteio = sorteio = np.random.choice(valores, n)\n",
    "    media = np.mean(sorteio)\n",
    "    medias.append(media)\n",
    "mediafin = np.mean(medias)\n",
    "print(len(medias))\n",
    "print(\"Média de todas as médias tomadas: \", mediafin)\n",
    "plt.hist(medias, normed=1)"
   ]
  },
  {
   "cell_type": "markdown",
   "metadata": {},
   "source": [
    "n = 50"
   ]
  },
  {
   "cell_type": "code",
   "execution_count": 94,
   "metadata": {
    "collapsed": false
   },
   "outputs": [
    {
     "name": "stdout",
     "output_type": "stream",
     "text": [
      "10000\n",
      "Média de todas as médias tomadas:  2.997724\n"
     ]
    },
    {
     "data": {
      "text/plain": [
       "(array([  2.84482759e-02,   2.96551724e-01,   1.01422414e+00,\n",
       "          1.59224138e+00,   1.04956897e+00,   2.75431034e-01,\n",
       "          5.00000000e-02,   2.58620690e-03,   8.62068966e-04,\n",
       "          4.31034483e-04]),\n",
       " array([ 2.18 ,  2.412,  2.644,  2.876,  3.108,  3.34 ,  3.572,  3.804,\n",
       "         4.036,  4.268,  4.5  ]),\n",
       " <a list of 10 Patch objects>)"
      ]
     },
     "execution_count": 94,
     "metadata": {},
     "output_type": "execute_result"
    },
    {
     "data": {
      "image/png": "[encoded data removed]",
      "text/plain": [
       "<matplotlib.figure.Figure at 0xbba4b047b8>"
      ]
     },
     "metadata": {},
     "output_type": "display_data"
    }
   ],
   "source": [
    "medias = [media2]\n",
    "n=50\n",
    "for i in range(1,10000):\n",
    "    sorteio = sorteio = np.random.choice(valores, n)\n",
    "    media = np.mean(sorteio)\n",
    "    medias.append(media)\n",
    "mediafin = np.mean(medias)\n",
    "print(len(medias))\n",
    "print(\"Média de todas as médias tomadas: \", mediafin)\n",
    "plt.hist(medias, normed=1)"
   ]
  },
  {
   "cell_type": "markdown",
   "metadata": {},
   "source": [
    "# 4"
   ]
  },
  {
   "cell_type": "markdown",
   "metadata": {},
   "source": [
    "<b><p>O Teorema do Limite Central (TLC) indica que quanto maior for o número de dados de uma amostra, mais a distribuição de suas médias se aproxima de uma normal. Isto é, assim como demonstrado nos itens anteriores, ao pegarmos uma distribuição, seja ela qual for (exponencial, poisson, binomial, etc.), se sortearmos valores (com 2 ou mais valores sorteados por vez) aleatórios da amostra, ao fazermos isso por várias vezes, se tirarmos a média de todos os valores sorteados, teremos a média (ou muito proximo disso) da amostra real.</p>\n",
    "<b>\n",
    "<p>O Teorema se torna ainda mais eficaz quando o nosso n (número de valores sorteados por vez) é muito grande, ou seja, tende ao inifito. Ele é útil, pois, por exemplo, ao fazer uma pesquisa de intenções de voto, nunca iremos conseguir entrevistar toda a população de uma região. Com isso, tiramos várias amostras dessa população e fazemos o Teorema do Limite Central para comprovar a aplicabilidade desta pesquisa.</p>"
   ]
  },
  {
   "cell_type": "markdown",
   "metadata": {},
   "source": [
    "<img src=\"640px-Teorema_central_do_limite.svg.png\", width=500, height=500, align=\"center\">"
   ]
  },
  {
   "cell_type": "markdown",
   "metadata": {},
   "source": [
    "Na imagem acima, podemos ver graficamente que, quanto maior o número Nn (na imagem dado pela variável lançãmentos), mais o valor da média das amostras tomadas se aproximam de uma normal com os valores tendendo a média dos valores originais."
   ]
  },
  {
   "cell_type": "markdown",
   "metadata": {},
   "source": [
    "### Guardando o 1º e o 9 º elemento de cada sorteio"
   ]
  },
  {
   "cell_type": "code",
   "execution_count": 110,
   "metadata": {
    "collapsed": false
   },
   "outputs": [],
   "source": [
    "medias = [media2]\n",
    "x1 = []\n",
    "x9 = []\n",
    "n=50\n",
    "for i in range(1,10000):\n",
    "    sorteio = sorteio = np.random.choice(valores, n)\n",
    "    media = np.mean(sorteio)\n",
    "    medias.append(media)\n",
    "    x1.append(sorteio[0])\n",
    "    x9.append(sorteio[8])"
   ]
  },
  {
   "cell_type": "markdown",
   "metadata": {},
   "source": [
    "### Histograma dos primeiros elementos"
   ]
  },
  {
   "cell_type": "code",
   "execution_count": 111,
   "metadata": {
    "collapsed": false
   },
   "outputs": [
    {
     "data": {
      "text/plain": [
       "(array([ 0.16810014,  0.19135247,  0.18335167,  0.14026403,  0.08250825,\n",
       "         0.05950595,  0.00558389,  0.00133347,  0.00083342,  0.00050005]),\n",
       " array([  0. ,   1.2,   2.4,   3.6,   4.8,   6. ,   7.2,   8.4,   9.6,\n",
       "         10.8,  12. ]),\n",
       " <a list of 10 Patch objects>)"
      ]
     },
     "execution_count": 111,
     "metadata": {},
     "output_type": "execute_result"
    },
    {
     "data": {
      "image/png": "[encoded data removed]",
      "text/plain": [
       "<matplotlib.figure.Figure at 0xbba684b320>"
      ]
     },
     "metadata": {},
     "output_type": "display_data"
    }
   ],
   "source": [
    "plt.hist(x1, normed=1)"
   ]
  },
  {
   "cell_type": "markdown",
   "metadata": {},
   "source": [
    "### Histograma dos nonos elementos"
   ]
  },
  {
   "cell_type": "code",
   "execution_count": 112,
   "metadata": {
    "collapsed": false
   },
   "outputs": [
    {
     "data": {
      "text/plain": [
       "(array([ 0.16584992,  0.18668534,  0.18551855,  0.1460146 ,  0.08450845,\n",
       "         0.05567223,  0.00616728,  0.00216688,  0.00041671,  0.00033337]),\n",
       " array([  0. ,   1.2,   2.4,   3.6,   4.8,   6. ,   7.2,   8.4,   9.6,\n",
       "         10.8,  12. ]),\n",
       " <a list of 10 Patch objects>)"
      ]
     },
     "execution_count": 112,
     "metadata": {},
     "output_type": "execute_result"
    },
    {
     "data": {
      "image/png": "[encoded data removed]",
      "text/plain": [
       "<matplotlib.figure.Figure at 0xbba6a62240>"
      ]
     },
     "metadata": {},
     "output_type": "display_data"
    }
   ],
   "source": [
    "plt.hist(x9, normed=1)"
   ]
  },
  {
   "cell_type": "markdown",
   "metadata": {},
   "source": [
    "### Histograma de todos os valores"
   ]
  },
  {
   "cell_type": "code",
   "execution_count": 113,
   "metadata": {
    "collapsed": false
   },
   "outputs": [
    {
     "data": {
      "text/plain": [
       "(array([  1.42818571e-01,   1.60035000e-01,   2.79746429e-01,\n",
       "          7.19242857e-02,   3.57400000e-02,   2.12878571e-02,\n",
       "          1.94857143e-03,   7.25714286e-04,   4.57142857e-05,\n",
       "          1.35714286e-05]),\n",
       " array([  0. ,   1.4,   2.8,   4.2,   5.6,   7. ,   8.4,   9.8,  11.2,\n",
       "         12.6,  14. ]),\n",
       " <a list of 10 Patch objects>)"
      ]
     },
     "execution_count": 113,
     "metadata": {},
     "output_type": "execute_result"
    },
    {
     "data": {
      "image/png": "[encoded data removed]",
      "text/plain": [
       "<matplotlib.figure.Figure at 0xbba6ad8358>"
      ]
     },
     "metadata": {},
     "output_type": "display_data"
    }
   ],
   "source": [
    "plt.hist(valores, normed=1)"
   ]
  },
  {
   "cell_type": "markdown",
   "metadata": {},
   "source": [
    "### Correlação entre os primeiros e os nonos elementos, indicando sua independência"
   ]
  },
  {
   "cell_type": "code",
   "execution_count": 120,
   "metadata": {
    "collapsed": false
   },
   "outputs": [
    {
     "name": "stdout",
     "output_type": "stream",
     "text": [
      "0.015118820147\n"
     ]
    }
   ],
   "source": [
    "print(stats.pearsonr(x1, x9)[0])"
   ]
  },
  {
   "cell_type": "code",
   "execution_count": null,
   "metadata": {
    "collapsed": true
   },
   "outputs": [],
   "source": []
  }
 ],
 "metadata": {
  "kernelspec": {
   "display_name": "Python 3",
   "language": "python",
   "name": "python3"
  },
  "language_info": {
   "codemirror_mode": {
    "name": "ipython",
    "version": 3
   },
   "file_extension": ".py",
   "mimetype": "text/x-python",
   "name": "python",
   "nbconvert_exporter": "python",
   "pygments_lexer": "ipython3",
   "version": "3.5.2"
  }
 },
 "nbformat": 4,
 "nbformat_minor": 0
}
