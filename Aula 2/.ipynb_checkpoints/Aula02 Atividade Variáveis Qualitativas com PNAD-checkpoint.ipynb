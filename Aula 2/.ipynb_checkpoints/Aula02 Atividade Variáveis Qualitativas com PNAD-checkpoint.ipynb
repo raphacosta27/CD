{
 "cells": [
  {
   "cell_type": "markdown",
   "metadata": {},
   "source": [
    "___\n",
    "# Atividade: Variáveis qualitativas com a PNAD (ALUNOS)\n",
    "___\n",
    "\n",
    "## Aula 02\n",
    "\n",
    "\n",
    "**Link úteis:**\n",
    "1.\tLeitura prévia necessária: Magalhães e Lima (7ª. Edição): pág. 9 a 16 – destacando para variáveis qualitativas.\n",
    "2.\t10 Minutes to Pandas: http://pandas.pydata.org/pandas-docs/stable/10min.html\n",
    "3.\tEssential Basic Functionality: http://pandas.pydata.org/pandas-docs/stable/basics.html\n",
    "4.  Estude a aula `Aula02 Análise Exploratoria Variáveis Qualitativas-ALUNOS.ipynb`, o qual contém uma introdução ao Jupyter Notebook. A publicação dessa aula tem como objetivo auxiliá-lo, caso queira, no desenvolvimento dos seus próximos programas, como esta atividade.\n",
    "\n",
    "**Hoje:**\n",
    "1.\tAnalisar variáveis qualitativas de forma uni e bivariadas utilizando tabelas de frequências e gráficos de barras e de pizza (ou setor).\n",
    "2.  Trabalhar com a base de dados da PNAD 2013 - Pesquisa Nacional por Amostra de Domicílios\n",
    "\n",
    "**Próxima aula:**\n",
    "1.\tLeitura prévia necessária: Magalhães e Lima (7ª. Edição): pág. 9 a 17 – destacando para variáveis quantitativas; pág. 106 e 107 (Definição 4.1 e Exemplo 4.1).\n",
    "\n",
    "___\n"
   ]
  },
  {
   "cell_type": "markdown",
   "metadata": {},
   "source": [
    "___\n",
    "## <font color='blue'>PNAD 2013 – PESQUISA NACIONAL POR AMOSTRA DE DOMICÍLIOS</font>\n",
    "\n",
    "**Base de dados reduzida: ** `pes2013A.txt` (75 MB)\n",
    "[Acesse a base de dados aqui: https://dl.dropboxusercontent.com/u/65763596/Aula02/pes2013A.txt] \n",
    "\n",
    "**Dicionário das variáveis: ** `Dicionário de variáveis de pessoas - PNAD 2013.xlsx`\n",
    "[Acesse dicionário aqui: https://dl.dropboxusercontent.com/u/65763596/Aula02/Dicion%C3%A1rio%20de%20vari%C3%A1veis%20de%20pessoas%20-%20PNAD%202013.xls]\n",
    "\n",
    "\n",
    "Muitos especialistas na área de negócios dizem que empresários mais bem sucedidos são aqueles que fazem um planejamento antes de começar seu próprio negócio. Nessa visão, imagine que o Sr. Gold tenha como grande objetivo abrir uma nova faculdade e para isso deseja estudar o perfil do estudante que cursa ensino médio ou pré-vestibular e do que cursa ensino superior. \n",
    "\n",
    "Assuma que as variáveis de interesse a respeito dos estudantes sejam relativamente as mesmas de 2013 até o momento atual. Nesse caso, seja criativo para ajudar o Sr. Gold que deseja abrir seu negócio, mas não tem certeza sobre quais variáveis o interessam. \n",
    "\n",
    "Vocês podem ajudá-lo?!  \n",
    "\n",
    "As variáveis a seguir devem fazer parte da sua análise:\n",
    "\n",
    "* V0302: sexo\n",
    "* V0404: cor ou raça\n",
    "* V6002: rede de ensino\n",
    "* V4802: nível de ensino e grupos de séries do ensino fundamental que frequentavam (todos os estudantes)\n",
    "\n",
    "** Crie uma variável com região do indivíduo amostrado considerando a variável `UF` que define o estado e também trabalhe com essa nova variável em suas análises. ** \n",
    "\n",
    "** Escolha mais pelo menos DUAS variáveis qualitativas para completar sua análise!! **\n",
    "\n",
    "Faça uma análise exploratória apenas com as variáveis qualitativas com foco no objetivo do Sr. Gold.\n",
    "\n",
    "Sua análise deve conter pelo menos uma das seguintes visualizações:\n",
    "\n",
    "1. Gráfico de colunas (bar) e setor (pie) com as frequências relativas cadas categorias das variáveis qualitativas.\n",
    "2. Tabela cruzada entre pares de variaveis qualitativas. Montar o gráfico de colunas. Repetir o processo habilitando a opção \"stacked=True\".\n",
    "\n",
    "\n",
    "___\n",
    "\n",
    "\n",
    "\n",
    "<font color='red'>\n",
    "Crie um repositório chamado CD em seu Github\n",
    "</font>\n",
    "\n",
    "\n",
    "Neste repositório, salve seu trabalho numa pasta chamada aula2\n",
    "\n",
    "Por exemplo, se seu login for *pikachu* o projeto vai estar na pasta:\n",
    "\n",
    "https://github.com/<font color=red>pikachu/CD/aula2</font>\n",
    "\n",
    "\n",
    "\n",
    "## <font color='red'>Terça-feira (dia 16/08), no horário de atendimento da sua turma, deverá apresentar aos NINJAS!!</font>\n",
    "___"
   ]
  },
  {
   "cell_type": "code",
   "execution_count": 18,
   "metadata": {
    "collapsed": false
   },
   "outputs": [],
   "source": [
    "%matplotlib inline\n",
    "import pandas as pd\n",
    "import matplotlib.pyplot as plt\n",
    "import os"
   ]
  },
  {
   "cell_type": "code",
   "execution_count": 19,
   "metadata": {
    "collapsed": false
   },
   "outputs": [
    {
     "name": "stdout",
     "output_type": "stream",
     "text": [
      "Esperamos trabalhar no diretório\n",
      "C:\\Users\\4Python\\Documents\\Insper\\Aulas\\2 Semestre\\Ciência dos Dados\\CD\\aula02\n"
     ]
    }
   ],
   "source": [
    "print('Esperamos trabalhar no diretório')\n",
    "print(os.getcwd())"
   ]
  },
  {
   "cell_type": "code",
   "execution_count": 20,
   "metadata": {
    "collapsed": false
   },
   "outputs": [],
   "source": [
    "dados = pd.read_table('pes2013A.txt', sep=' ')"
   ]
  },
  {
   "cell_type": "code",
   "execution_count": 21,
   "metadata": {
    "collapsed": false
   },
   "outputs": [
    {
     "data": {
      "text/html": [
       "<div>\n",
       "<table border=\"1\" class=\"dataframe\">\n",
       "  <thead>\n",
       "    <tr style=\"text-align: right;\">\n",
       "      <th></th>\n",
       "      <th>V0101</th>\n",
       "      <th>UF</th>\n",
       "      <th>V0102</th>\n",
       "      <th>V0103</th>\n",
       "      <th>V0301</th>\n",
       "      <th>V0302</th>\n",
       "      <th>V8005</th>\n",
       "      <th>V0404</th>\n",
       "      <th>V4011</th>\n",
       "      <th>V0412</th>\n",
       "      <th>...</th>\n",
       "      <th>V4706</th>\n",
       "      <th>V4707</th>\n",
       "      <th>V4809</th>\n",
       "      <th>V4810</th>\n",
       "      <th>V4711</th>\n",
       "      <th>V4718</th>\n",
       "      <th>V4720</th>\n",
       "      <th>V4742</th>\n",
       "      <th>V4750</th>\n",
       "      <th>V4729</th>\n",
       "    </tr>\n",
       "  </thead>\n",
       "  <tbody>\n",
       "    <tr>\n",
       "      <th>1</th>\n",
       "      <td>2013</td>\n",
       "      <td>11</td>\n",
       "      <td>15</td>\n",
       "      <td>3</td>\n",
       "      <td>1</td>\n",
       "      <td>4</td>\n",
       "      <td>42</td>\n",
       "      <td>2</td>\n",
       "      <td>5.0</td>\n",
       "      <td>2</td>\n",
       "      <td>...</td>\n",
       "      <td>NaN</td>\n",
       "      <td>NaN</td>\n",
       "      <td>NaN</td>\n",
       "      <td>NaN</td>\n",
       "      <td>NaN</td>\n",
       "      <td>NaN</td>\n",
       "      <td>350.0</td>\n",
       "      <td>350.0</td>\n",
       "      <td>350.0</td>\n",
       "      <td>244</td>\n",
       "    </tr>\n",
       "    <tr>\n",
       "      <th>2</th>\n",
       "      <td>2013</td>\n",
       "      <td>11</td>\n",
       "      <td>15</td>\n",
       "      <td>4</td>\n",
       "      <td>1</td>\n",
       "      <td>4</td>\n",
       "      <td>64</td>\n",
       "      <td>8</td>\n",
       "      <td>7.0</td>\n",
       "      <td>2</td>\n",
       "      <td>...</td>\n",
       "      <td>NaN</td>\n",
       "      <td>NaN</td>\n",
       "      <td>NaN</td>\n",
       "      <td>NaN</td>\n",
       "      <td>NaN</td>\n",
       "      <td>NaN</td>\n",
       "      <td>678.0</td>\n",
       "      <td>339.0</td>\n",
       "      <td>339.0</td>\n",
       "      <td>243</td>\n",
       "    </tr>\n",
       "    <tr>\n",
       "      <th>3</th>\n",
       "      <td>2013</td>\n",
       "      <td>11</td>\n",
       "      <td>15</td>\n",
       "      <td>4</td>\n",
       "      <td>2</td>\n",
       "      <td>4</td>\n",
       "      <td>13</td>\n",
       "      <td>4</td>\n",
       "      <td>0.0</td>\n",
       "      <td>2</td>\n",
       "      <td>...</td>\n",
       "      <td>NaN</td>\n",
       "      <td>NaN</td>\n",
       "      <td>NaN</td>\n",
       "      <td>NaN</td>\n",
       "      <td>NaN</td>\n",
       "      <td>NaN</td>\n",
       "      <td>0.0</td>\n",
       "      <td>339.0</td>\n",
       "      <td>339.0</td>\n",
       "      <td>243</td>\n",
       "    </tr>\n",
       "    <tr>\n",
       "      <th>4</th>\n",
       "      <td>2013</td>\n",
       "      <td>11</td>\n",
       "      <td>15</td>\n",
       "      <td>5</td>\n",
       "      <td>1</td>\n",
       "      <td>2</td>\n",
       "      <td>23</td>\n",
       "      <td>8</td>\n",
       "      <td>0.0</td>\n",
       "      <td>2</td>\n",
       "      <td>...</td>\n",
       "      <td>1.0</td>\n",
       "      <td>3.0</td>\n",
       "      <td>5.0</td>\n",
       "      <td>5.0</td>\n",
       "      <td>1.0</td>\n",
       "      <td>800.0</td>\n",
       "      <td>800.0</td>\n",
       "      <td>266.0</td>\n",
       "      <td>266.0</td>\n",
       "      <td>243</td>\n",
       "    </tr>\n",
       "    <tr>\n",
       "      <th>5</th>\n",
       "      <td>2013</td>\n",
       "      <td>11</td>\n",
       "      <td>15</td>\n",
       "      <td>5</td>\n",
       "      <td>2</td>\n",
       "      <td>4</td>\n",
       "      <td>19</td>\n",
       "      <td>8</td>\n",
       "      <td>0.0</td>\n",
       "      <td>2</td>\n",
       "      <td>...</td>\n",
       "      <td>NaN</td>\n",
       "      <td>NaN</td>\n",
       "      <td>NaN</td>\n",
       "      <td>NaN</td>\n",
       "      <td>NaN</td>\n",
       "      <td>NaN</td>\n",
       "      <td>0.0</td>\n",
       "      <td>266.0</td>\n",
       "      <td>266.0</td>\n",
       "      <td>243</td>\n",
       "    </tr>\n",
       "  </tbody>\n",
       "</table>\n",
       "<p>5 rows × 72 columns</p>\n",
       "</div>"
      ],
      "text/plain": [
       "   V0101  UF  V0102  V0103  V0301  V0302  V8005  V0404  V4011  V0412  ...    \\\n",
       "1   2013  11     15      3      1      4     42      2    5.0      2  ...     \n",
       "2   2013  11     15      4      1      4     64      8    7.0      2  ...     \n",
       "3   2013  11     15      4      2      4     13      4    0.0      2  ...     \n",
       "4   2013  11     15      5      1      2     23      8    0.0      2  ...     \n",
       "5   2013  11     15      5      2      4     19      8    0.0      2  ...     \n",
       "\n",
       "   V4706  V4707  V4809  V4810  V4711  V4718  V4720  V4742  V4750  V4729  \n",
       "1    NaN    NaN    NaN    NaN    NaN    NaN  350.0  350.0  350.0    244  \n",
       "2    NaN    NaN    NaN    NaN    NaN    NaN  678.0  339.0  339.0    243  \n",
       "3    NaN    NaN    NaN    NaN    NaN    NaN    0.0  339.0  339.0    243  \n",
       "4    1.0    3.0    5.0    5.0    1.0  800.0  800.0  266.0  266.0    243  \n",
       "5    NaN    NaN    NaN    NaN    NaN    NaN    0.0  266.0  266.0    243  \n",
       "\n",
       "[5 rows x 72 columns]"
      ]
     },
     "execution_count": 21,
     "metadata": {},
     "output_type": "execute_result"
    }
   ],
   "source": [
    "dados.head()"
   ]
  },
  {
   "cell_type": "code",
   "execution_count": 25,
   "metadata": {
    "collapsed": false
   },
   "outputs": [
    {
     "name": "stderr",
     "output_type": "stream",
     "text": [
      "C:\\Users\\4Python\\Anaconda3\\lib\\site-packages\\ipykernel\\__main__.py:3: SettingWithCopyWarning: \n",
      "A value is trying to be set on a copy of a slice from a DataFrame\n",
      "\n",
      "See the caveats in the documentation: http://pandas.pydata.org/pandas-docs/stable/indexing.html#indexing-view-versus-copy\n",
      "  app.launch_new_instance()\n",
      "C:\\Users\\4Python\\Anaconda3\\lib\\site-packages\\ipykernel\\__main__.py:4: SettingWithCopyWarning: \n",
      "A value is trying to be set on a copy of a slice from a DataFrame\n",
      "\n",
      "See the caveats in the documentation: http://pandas.pydata.org/pandas-docs/stable/indexing.html#indexing-view-versus-copy\n",
      "C:\\Users\\4Python\\Anaconda3\\lib\\site-packages\\ipykernel\\__main__.py:5: SettingWithCopyWarning: \n",
      "A value is trying to be set on a copy of a slice from a DataFrame\n",
      "\n",
      "See the caveats in the documentation: http://pandas.pydata.org/pandas-docs/stable/indexing.html#indexing-view-versus-copy\n",
      "C:\\Users\\4Python\\Anaconda3\\lib\\site-packages\\ipykernel\\__main__.py:6: SettingWithCopyWarning: \n",
      "A value is trying to be set on a copy of a slice from a DataFrame\n",
      "\n",
      "See the caveats in the documentation: http://pandas.pydata.org/pandas-docs/stable/indexing.html#indexing-view-versus-copy\n",
      "C:\\Users\\4Python\\Anaconda3\\lib\\site-packages\\ipykernel\\__main__.py:7: SettingWithCopyWarning: \n",
      "A value is trying to be set on a copy of a slice from a DataFrame\n",
      "\n",
      "See the caveats in the documentation: http://pandas.pydata.org/pandas-docs/stable/indexing.html#indexing-view-versus-copy\n"
     ]
    },
    {
     "name": "stdout",
     "output_type": "stream",
     "text": [
      "1                Norte\n",
      "2                Norte\n",
      "3                Norte\n",
      "4                Norte\n",
      "5                Norte\n",
      "6                Norte\n",
      "7                Norte\n",
      "8                Norte\n",
      "9                Norte\n",
      "10               Norte\n",
      "11               Norte\n",
      "12               Norte\n",
      "13               Norte\n",
      "14               Norte\n",
      "15               Norte\n",
      "16               Norte\n",
      "17               Norte\n",
      "18               Norte\n",
      "19               Norte\n",
      "20               Norte\n",
      "21               Norte\n",
      "22               Norte\n",
      "23               Norte\n",
      "24               Norte\n",
      "25               Norte\n",
      "26               Norte\n",
      "27               Norte\n",
      "28               Norte\n",
      "29               Norte\n",
      "30               Norte\n",
      "              ...     \n",
      "362526    Centro-Oeste\n",
      "362527    Centro-Oeste\n",
      "362528    Centro-Oeste\n",
      "362529    Centro-Oeste\n",
      "362530    Centro-Oeste\n",
      "362531    Centro-Oeste\n",
      "362532    Centro-Oeste\n",
      "362533    Centro-Oeste\n",
      "362534    Centro-Oeste\n",
      "362535    Centro-Oeste\n",
      "362536    Centro-Oeste\n",
      "362537    Centro-Oeste\n",
      "362538    Centro-Oeste\n",
      "362539    Centro-Oeste\n",
      "362540    Centro-Oeste\n",
      "362541    Centro-Oeste\n",
      "362542    Centro-Oeste\n",
      "362543    Centro-Oeste\n",
      "362544    Centro-Oeste\n",
      "362545    Centro-Oeste\n",
      "362546    Centro-Oeste\n",
      "362547    Centro-Oeste\n",
      "362548    Centro-Oeste\n",
      "362549    Centro-Oeste\n",
      "362550    Centro-Oeste\n",
      "362551    Centro-Oeste\n",
      "362552    Centro-Oeste\n",
      "362553    Centro-Oeste\n",
      "362554    Centro-Oeste\n",
      "362555    Centro-Oeste\n",
      "Name: REGIAO, dtype: object\n"
     ]
    },
    {
     "data": {
      "image/png": "[encoded data removed]",
      "text/plain": [
       "<matplotlib.figure.Figure at 0x1469950>"
      ]
     },
     "metadata": {},
     "output_type": "display_data"
    }
   ],
   "source": [
    "dados['REGIAO']=dados.UF\n",
    "#print(dados.REGIÃO)\n",
    "dados.REGIAO[(dados.UF > 29) & (dados.UF < 41)] = \"Sudeste\"\n",
    "dados.REGIAO[(dados.UF >= 10) & (dados.UF <= 18)] = \"Norte\"\n",
    "dados.REGIAO[(dados.UF >=50) & (dados.UF <=53)] = \"Centro-Oeste\"\n",
    "dados.REGIAO[(dados.UF >=41) & (dados.UF <=43)] = \"Sul\"\n",
    "dados.REGIAO[(dados.UF >=21) & (dados.UF <=29)] = \"Nordeste\"\n",
    "\n",
    "print(dados.REGIAO)\n",
    "\n",
    "regiao = dados.REGIAO.value_counts()\n",
    "plot = regiao.plot(kind='pie', autopct='%.1f')"
   ]
  },
  {
   "cell_type": "code",
   "execution_count": 12,
   "metadata": {
    "collapsed": false
   },
   "outputs": [
    {
     "data": {
      "text/html": [
       "<div>\n",
       "<table border=\"1\" class=\"dataframe\">\n",
       "  <thead>\n",
       "    <tr style=\"text-align: right;\">\n",
       "      <th></th>\n",
       "      <th>UF</th>\n",
       "    </tr>\n",
       "  </thead>\n",
       "  <tbody>\n",
       "    <tr>\n",
       "      <th>1</th>\n",
       "      <td>11</td>\n",
       "    </tr>\n",
       "    <tr>\n",
       "      <th>2</th>\n",
       "      <td>11</td>\n",
       "    </tr>\n",
       "    <tr>\n",
       "      <th>3</th>\n",
       "      <td>11</td>\n",
       "    </tr>\n",
       "    <tr>\n",
       "      <th>4</th>\n",
       "      <td>11</td>\n",
       "    </tr>\n",
       "    <tr>\n",
       "      <th>5</th>\n",
       "      <td>11</td>\n",
       "    </tr>\n",
       "  </tbody>\n",
       "</table>\n",
       "</div>"
      ],
      "text/plain": [
       "   UF\n",
       "1  11\n",
       "2  11\n",
       "3  11\n",
       "4  11\n",
       "5  11"
      ]
     },
     "execution_count": 12,
     "metadata": {},
     "output_type": "execute_result"
    }
   ],
   "source": [
    "analise = 'UF', 'V0302', 'V0404', 'V6002', 'V4802','V8005'\n",
    "analise_numeros = 5\n",
    "dados.iloc[:,(1,)].head()"
   ]
  },
  {
   "cell_type": "code",
   "execution_count": 13,
   "metadata": {
    "collapsed": false
   },
   "outputs": [
    {
     "name": "stdout",
     "output_type": "stream",
     "text": [
      "\n",
      "VARIÁVEIS A SEREM ANALISADAS\n",
      "\n"
     ]
    },
    {
     "data": {
      "text/html": [
       "<div>\n",
       "<table border=\"1\" class=\"dataframe\">\n",
       "  <thead>\n",
       "    <tr style=\"text-align: right;\">\n",
       "      <th></th>\n",
       "      <th>UF</th>\n",
       "      <th>V0302</th>\n",
       "      <th>V0404</th>\n",
       "      <th>V6002</th>\n",
       "      <th>V4802</th>\n",
       "      <th>V8005</th>\n",
       "    </tr>\n",
       "  </thead>\n",
       "  <tbody>\n",
       "    <tr>\n",
       "      <th>1</th>\n",
       "      <td>11</td>\n",
       "      <td>4</td>\n",
       "      <td>2</td>\n",
       "      <td>NaN</td>\n",
       "      <td>NaN</td>\n",
       "      <td>42</td>\n",
       "    </tr>\n",
       "    <tr>\n",
       "      <th>2</th>\n",
       "      <td>11</td>\n",
       "      <td>4</td>\n",
       "      <td>8</td>\n",
       "      <td>NaN</td>\n",
       "      <td>NaN</td>\n",
       "      <td>64</td>\n",
       "    </tr>\n",
       "    <tr>\n",
       "      <th>3</th>\n",
       "      <td>11</td>\n",
       "      <td>4</td>\n",
       "      <td>4</td>\n",
       "      <td>2.0</td>\n",
       "      <td>8.0</td>\n",
       "      <td>13</td>\n",
       "    </tr>\n",
       "    <tr>\n",
       "      <th>4</th>\n",
       "      <td>11</td>\n",
       "      <td>2</td>\n",
       "      <td>8</td>\n",
       "      <td>NaN</td>\n",
       "      <td>NaN</td>\n",
       "      <td>23</td>\n",
       "    </tr>\n",
       "    <tr>\n",
       "      <th>5</th>\n",
       "      <td>11</td>\n",
       "      <td>4</td>\n",
       "      <td>8</td>\n",
       "      <td>4.0</td>\n",
       "      <td>11.0</td>\n",
       "      <td>19</td>\n",
       "    </tr>\n",
       "  </tbody>\n",
       "</table>\n",
       "</div>"
      ],
      "text/plain": [
       "   UF  V0302  V0404  V6002  V4802  V8005\n",
       "1  11      4      2    NaN    NaN     42\n",
       "2  11      4      8    NaN    NaN     64\n",
       "3  11      4      4    2.0    8.0     13\n",
       "4  11      2      8    NaN    NaN     23\n",
       "5  11      4      8    4.0   11.0     19"
      ]
     },
     "execution_count": 13,
     "metadata": {},
     "output_type": "execute_result"
    }
   ],
   "source": [
    "dados_lista = list(dados)\n",
    "values = list()\n",
    "\n",
    "for code in analise:\n",
    "    values.append(dados_lista.index(code))\n",
    "\n",
    "values = tuple(values)\n",
    "\n",
    "print('\\nVariáveis a serem analisadas\\n'.upper())\n",
    "\n",
    "dados.iloc[0:5,values]"
   ]
  },
  {
   "cell_type": "code",
   "execution_count": 14,
   "metadata": {
    "collapsed": false
   },
   "outputs": [
    {
     "name": "stdout",
     "output_type": "stream",
     "text": [
      "Frequências relativas por Unidade Fereral\n",
      "\n",
      "São Paulo              10.9\n",
      "Minas Gerais            9.1\n",
      "Bahia                   7.5\n",
      "Rio Grande do Sul       7.5\n",
      "Rio de Janeiro          7.1\n",
      "Pará                    6.2\n",
      "Pernambuco              5.7\n",
      "Ceará                   5.3\n",
      "Paraná                  5.3\n",
      "Goiás                   4.1\n",
      "Amazonas                3.6\n",
      "Santa Catarina          2.7\n",
      "Distrito Federal        2.6\n",
      "Maranhão                2.6\n",
      "Mato Grosso             2.0\n",
      "Rondônia                2.0\n",
      "Espírito Santo          1.9\n",
      "Tocantins               1.8\n",
      "Mato Grosso do Sul      1.7\n",
      "Paraíba                 1.7\n",
      "Sergipe                 1.7\n",
      "Piauí                   1.5\n",
      "Alagoas                 1.5\n",
      "Rio Grande do Norte     1.4\n",
      "Acre                    1.2\n",
      "Amapá                   0.8\n",
      "Roraima                 0.8\n",
      "Name: UF, dtype: float64 \n",
      "\n"
     ]
    },
    {
     "data": {
      "text/plain": [
       "<matplotlib.axes._subplots.AxesSubplot at 0x9259b10>"
      ]
     },
     "execution_count": 14,
     "metadata": {},
     "output_type": "execute_result"
    },
    {
     "data": {
      "image/png": "[encoded data removed]",
      "text/plain": [
       "<matplotlib.figure.Figure at 0x17ee5190>"
      ]
     },
     "metadata": {},
     "output_type": "display_data"
    }
   ],
   "source": [
    "dados.UF = dados.UF.astype('category')\n",
    "dados.UF.cat.categories = ('Rondônia', 'Acre', 'Amazonas', 'Roraima', 'Pará', 'Amapá',\n",
    "                                                                'Tocantins', 'Maranhão', 'Piauí', 'Ceará', 'Rio Grande do Norte',\n",
    "                                                                'Paraíba', 'Pernambuco', 'Alagoas', 'Sergipe', 'Bahia', 'Minas Gerais',\n",
    "                                                                'Espírito Santo', 'Rio de Janeiro', 'São Paulo', 'Paraná', 'Santa Catarina',\n",
    "                                                                'Rio Grande do Sul', 'Mato Grosso do Sul', 'Mato Grosso', \"Goiás\", \n",
    "                                                                 'Distrito Federal')\n",
    "\n",
    "n=dados.shape[0]\n",
    "\n",
    "print('Frequências relativas por Unidade Fereral\\n')\n",
    "uf1 = (dados.UF.value_counts()/n*100).round(decimals=1)\n",
    "print(uf1, '\\n')\n",
    "\n",
    "uf1.plot(kind='bar', title='Frequências relativas por região', figsize=(6, 4))\n",
    "#plt.ylabel('Frequência (%)')\n",
    "#plt.xlabel('Estado')"
   ]
  },
  {
   "cell_type": "code",
   "execution_count": null,
   "metadata": {
    "collapsed": false
   },
   "outputs": [],
   "source": [
    "dados.V0302 = dados.V0302.astype('category')\n",
    "dados.V0302.cat.categories = ('Masculino', 'Feminino')\n",
    "\n",
    "print('Frequências relativas por sexo')\n",
    "sexo = ((dados.V0302.value_counts())/n*100).round(decimals=1)\n",
    "print(sexo, '\\n')\n",
    "\n",
    "sexo.plot(kind='pie',title='DISTRIBUIÇÃO POR SEXO NO BRASIL',autopct='%.1f',figsize=(6, 6))"
   ]
  },
  {
   "cell_type": "code",
   "execution_count": null,
   "metadata": {
    "collapsed": false
   },
   "outputs": [],
   "source": [
    "dados.V4802 = dados.V4802.astype('category')\n",
    "dados.V4802.cat.categories = ('Maternal', 'Alfabetização', 'Alfabetização Adultos', '1ª a 4ª séries', '5ª a 8ª séries', '1ª série em 9 anos', '2ª a 5ª séries em 9 anos', '6ª a 9ª séries em 9 anos', 'Jovens e adultos não EF', 'EM + pré-vest', 'superior')\n",
    "\n",
    "print('Frequências relativas por grau de estudo')\n",
    "estudo = ((dados.V4802.value_counts())/n*100).round(decimals=1)\n",
    "print(estudo, '\\n')\n",
    "\n",
    "estudo.plot(kind='bar', title='Frequências relativas por grau de estudo', figsize=(6,4))\n",
    "#plt.xlabel('Grau de estudo')\n",
    "#plt.ylabel('Frequência (%)')"
   ]
  },
  {
   "cell_type": "code",
   "execution_count": null,
   "metadata": {
    "collapsed": false
   },
   "outputs": [],
   "source": [
    "print('Tabela Cruzada por UF e grau de ensino:')\n",
    "ct=pd.crosstab(dados.V4802,dados.UF,margins=True,rownames=['GRAU DE ESTUDO'], colnames=['UF'])\n",
    "ct=ct.loc['EM + pré-vest']\n",
    "ct=ct.iloc[0:27]\n",
    "\n",
    "print(ct)\n",
    "\n",
    "plot = ct.plot(kind='bar')\n",
    "plt.xlabel('UF')\n",
    "plt.ylabel('frequência absoluta')"
   ]
  },
  {
   "cell_type": "code",
   "execution_count": null,
   "metadata": {
    "collapsed": true
   },
   "outputs": [],
   "source": []
  }
 ],
 "metadata": {
  "anaconda-cloud": {},
  "kernelspec": {
   "display_name": "Python [Root]",
   "language": "python",
   "name": "Python [Root]"
  },
  "language_info": {
   "codemirror_mode": {
    "name": "ipython",
    "version": 3
   },
   "file_extension": ".py",
   "mimetype": "text/x-python",
   "name": "python",
   "nbconvert_exporter": "python",
   "pygments_lexer": "ipython3",
   "version": "3.5.2"
  }
 },
 "nbformat": 4,
 "nbformat_minor": 0
}
