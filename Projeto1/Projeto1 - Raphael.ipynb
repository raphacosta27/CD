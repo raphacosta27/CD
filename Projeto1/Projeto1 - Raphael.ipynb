{
 "cells": [
  {
   "cell_type": "markdown",
   "metadata": {},
   "source": [
    "# PROJETO 1"
   ]
  },
  {
   "cell_type": "markdown",
   "metadata": {},
   "source": [
    "## <font color='red'>Raphael Costa</font>\n",
    "___"
   ]
  },
  {
   "cell_type": "markdown",
   "metadata": {},
   "source": [
    "## <font color='blue'>A evolução do acesso a tecnologia é igual para Idosos/Aposentados e para Jovens?</font>"
   ]
  },
  {
   "cell_type": "markdown",
   "metadata": {},
   "source": [
    "## Introdução\n",
    "\n",
    "Descreva aqui a motivação para escolha dos grupos e o que pretende analisar!\n",
    "\n",
    "Exemplifique identificando uma pesquisa semelhante feita no Brasil ou no exterior que compare uma parcela da população (apossentados, imigrantes, mulheres, jovens) com todo resto. Critique esta pesquisa (que tipo de variáveis usou? Que recurso de estatística descritiva?). Pode ser um artigo de jornal.\n"
   ]
  },
  {
   "cell_type": "markdown",
   "metadata": {},
   "source": [
    "####   Para este projeto, analisarei o acessoa da tecnologia, através da utilização de computadores, celulares e afins, porém, de um grupo específico: os aposentados. Por intuição, temos que a maioria dos aposentados são idosos, isso faz com que o acesso a tecnologia por eles seja de muito menos frequente e, consequentemente, muito mais dificil. \n",
    "####   Durante a semana me deparei com uma matéria do globo.com na qual sua manchete dizia \"Jovem brasileiro é mais conectado à internet do que a média global\" e ainda, em sua descrição, dizia: \"Pesquisa mostra que adolescentes, se pudessem, implantavam até um chip. Para esta geração conectada, um emoji vale mais que mil palavras.\" Através desta matéria, o acessoa a tecnologia por diferentes ramos sociais da sociedade tornou-se um assunto a ser discutido.\n",
    "####   Assim, decidi analisar a situação do idoso/aposentado brasileiro na atualidade. Mais do que isso, comparar este acesso com o acesso proporcionado pelos tais \"Jovens mais conectados do mundo\" e mostrar um pouco desta diferença de realidades, mostrar o impacto de uma mudança de gerações, que apesar de tentarem se apoioarem uma na outra, ainda sobram diferenças imensas.\n",
    "####    Além disso, ter acesso a tecnologia nos dias de hoje representa, de uma certa forma, um aspecto de qualidade de vida. Quanto mais acesso você tem, mais informações possui, logo, mais benefícios você tem a recorrer. Portanto, ainda através dos resultados, obteremos uma noção da qualidade de vida dos idosos e/ou aposentados brasileiros para anos diferentes."
   ]
  },
  {
   "cell_type": "markdown",
   "metadata": {},
   "source": [
    "## Variáveis utilizadas:\n",
    "## - V8005 (Idade)\n",
    "## - Regiao (criada, distingue as UFs entre as regiões BRs, como sudeste, sul e etc)\n",
    "## - Idoso (criada)\n",
    "## - Indiv (criada e que separa indivíduos entre crianças, adolescentes, Jovens, Adultos e Idosos)\n",
    "## - V06111 (Teve acesso a internet nos últimos 6 meses)\n",
    "## - V06112 (Tem telefone celular próprio)\n",
    "## - V061112 (O acesso a internet foi feito por meio de microcomputador)\n",
    "## - V4720 (Rendimento mensal de todas as fontes para pessoas de 10 anos ou mais de idade)"
   ]
  },
  {
   "cell_type": "markdown",
   "metadata": {},
   "source": [
    "## Análise e Resultados"
   ]
  },
  {
   "cell_type": "code",
   "execution_count": 1,
   "metadata": {
    "collapsed": true
   },
   "outputs": [],
   "source": [
    "%matplotlib inline\n",
    "import pandas as pd\n",
    "import matplotlib.pyplot as plt\n",
    "import numpy as np\n",
    "import os"
   ]
  },
  {
   "cell_type": "code",
   "execution_count": 2,
   "metadata": {
    "collapsed": false
   },
   "outputs": [
    {
     "name": "stdout",
     "output_type": "stream",
     "text": [
      "Esperamos trabalhar no diretório\n",
      "C:\\Users\\Raphael\\Desktop\\Insper\\2_semestre\\Ciência dos Dados\\CDEng\\Projeto1\n"
     ]
    }
   ],
   "source": [
    "print('Esperamos trabalhar no diretório')\n",
    "print(os.getcwd())"
   ]
  },
  {
   "cell_type": "code",
   "execution_count": 3,
   "metadata": {
    "collapsed": true
   },
   "outputs": [],
   "source": [
    "\"\"\"Vamos ler a estrutura da PNAD como um dataframe.\n",
    "    São muitas colunas e precisamos usar a informação de tamanho para ler a PNAD de fato\n",
    "    como uma base de tamanho fixo\"\"\"\n",
    "estrutura = pd.read_table(\"pes_py.txt\", sep=\";\")"
   ]
  },
  {
   "cell_type": "code",
   "execution_count": 4,
   "metadata": {
    "collapsed": false
   },
   "outputs": [
    {
     "data": {
      "text/html": [
       "<div>\n",
       "<table border=\"1\" class=\"dataframe\">\n",
       "  <thead>\n",
       "    <tr style=\"text-align: right;\">\n",
       "      <th></th>\n",
       "      <th>Coluna</th>\n",
       "      <th>Tamanho</th>\n",
       "      <th>Título</th>\n",
       "    </tr>\n",
       "  </thead>\n",
       "  <tbody>\n",
       "    <tr>\n",
       "      <th>0</th>\n",
       "      <td>V0101</td>\n",
       "      <td>4</td>\n",
       "      <td>Ano de referência</td>\n",
       "    </tr>\n",
       "    <tr>\n",
       "      <th>1</th>\n",
       "      <td>UF</td>\n",
       "      <td>2</td>\n",
       "      <td>Unidade da Federação</td>\n",
       "    </tr>\n",
       "    <tr>\n",
       "      <th>2</th>\n",
       "      <td>V0102</td>\n",
       "      <td>6</td>\n",
       "      <td>Número de controle</td>\n",
       "    </tr>\n",
       "    <tr>\n",
       "      <th>3</th>\n",
       "      <td>V0103</td>\n",
       "      <td>3</td>\n",
       "      <td>Número de série</td>\n",
       "    </tr>\n",
       "    <tr>\n",
       "      <th>4</th>\n",
       "      <td>V0301</td>\n",
       "      <td>2</td>\n",
       "      <td>Número de ordem</td>\n",
       "    </tr>\n",
       "  </tbody>\n",
       "</table>\n",
       "</div>"
      ],
      "text/plain": [
       "  Coluna  Tamanho                Título\n",
       "0  V0101        4     Ano de referência\n",
       "1     UF        2  Unidade da Federação\n",
       "2  V0102        6    Número de controle\n",
       "3  V0103        3       Número de série\n",
       "4  V0301        2       Número de ordem"
      ]
     },
     "execution_count": 4,
     "metadata": {},
     "output_type": "execute_result"
    }
   ],
   "source": [
    "estrutura.head()"
   ]
  },
  {
   "cell_type": "code",
   "execution_count": 5,
   "metadata": {
    "collapsed": true
   },
   "outputs": [],
   "source": [
    "# Se quiser uma leitura mais rápida, use o arquivo descompactado. Não esqueça de adicionar ao seu .gitignore\n",
    "pnad2014 = pd.read_fwf(\"PES2014.txt\", widths=estrutura.Tamanho, header=None)\n",
    "\n",
    "# Se quiser economizar espaço, use o arquivo Zip\n",
    "#pnad2014 = pd.read_fwf(\"PES2014.zip\", widths=estrutura.Tamanho, header=None, compression=\"zip\")"
   ]
  },
  {
   "cell_type": "code",
   "execution_count": 6,
   "metadata": {
    "collapsed": false
   },
   "outputs": [
    {
     "data": {
      "text/html": [
       "<div>\n",
       "<table border=\"1\" class=\"dataframe\">\n",
       "  <thead>\n",
       "    <tr style=\"text-align: right;\">\n",
       "      <th></th>\n",
       "      <th>0</th>\n",
       "      <th>1</th>\n",
       "      <th>2</th>\n",
       "      <th>3</th>\n",
       "      <th>4</th>\n",
       "      <th>5</th>\n",
       "      <th>6</th>\n",
       "      <th>7</th>\n",
       "      <th>8</th>\n",
       "      <th>9</th>\n",
       "      <th>...</th>\n",
       "      <th>331</th>\n",
       "      <th>332</th>\n",
       "      <th>333</th>\n",
       "      <th>334</th>\n",
       "      <th>335</th>\n",
       "      <th>336</th>\n",
       "      <th>337</th>\n",
       "      <th>338</th>\n",
       "      <th>339</th>\n",
       "      <th>340</th>\n",
       "    </tr>\n",
       "  </thead>\n",
       "  <tbody>\n",
       "    <tr>\n",
       "      <th>0</th>\n",
       "      <td>2014</td>\n",
       "      <td>11</td>\n",
       "      <td>15</td>\n",
       "      <td>1</td>\n",
       "      <td>1</td>\n",
       "      <td>2</td>\n",
       "      <td>19</td>\n",
       "      <td>8</td>\n",
       "      <td>1987</td>\n",
       "      <td>27</td>\n",
       "      <td>...</td>\n",
       "      <td>3.0</td>\n",
       "      <td>500.0</td>\n",
       "      <td>3.0</td>\n",
       "      <td>3</td>\n",
       "      <td>1.0</td>\n",
       "      <td>2.0</td>\n",
       "      <td>2.0</td>\n",
       "      <td>1.0</td>\n",
       "      <td>500.0</td>\n",
       "      <td>20160623</td>\n",
       "    </tr>\n",
       "    <tr>\n",
       "      <th>1</th>\n",
       "      <td>2014</td>\n",
       "      <td>11</td>\n",
       "      <td>15</td>\n",
       "      <td>1</td>\n",
       "      <td>2</td>\n",
       "      <td>4</td>\n",
       "      <td>19</td>\n",
       "      <td>1</td>\n",
       "      <td>1986</td>\n",
       "      <td>28</td>\n",
       "      <td>...</td>\n",
       "      <td>3.0</td>\n",
       "      <td>500.0</td>\n",
       "      <td>3.0</td>\n",
       "      <td>4</td>\n",
       "      <td>2.0</td>\n",
       "      <td>NaN</td>\n",
       "      <td>2.0</td>\n",
       "      <td>1.0</td>\n",
       "      <td>500.0</td>\n",
       "      <td>20160623</td>\n",
       "    </tr>\n",
       "    <tr>\n",
       "      <th>2</th>\n",
       "      <td>2014</td>\n",
       "      <td>11</td>\n",
       "      <td>15</td>\n",
       "      <td>1</td>\n",
       "      <td>3</td>\n",
       "      <td>2</td>\n",
       "      <td>14</td>\n",
       "      <td>5</td>\n",
       "      <td>2013</td>\n",
       "      <td>1</td>\n",
       "      <td>...</td>\n",
       "      <td>3.0</td>\n",
       "      <td>500.0</td>\n",
       "      <td>3.0</td>\n",
       "      <td>1</td>\n",
       "      <td>NaN</td>\n",
       "      <td>NaN</td>\n",
       "      <td>NaN</td>\n",
       "      <td>NaN</td>\n",
       "      <td>500.0</td>\n",
       "      <td>20160623</td>\n",
       "    </tr>\n",
       "    <tr>\n",
       "      <th>3</th>\n",
       "      <td>2014</td>\n",
       "      <td>11</td>\n",
       "      <td>15</td>\n",
       "      <td>2</td>\n",
       "      <td>1</td>\n",
       "      <td>2</td>\n",
       "      <td>8</td>\n",
       "      <td>4</td>\n",
       "      <td>1963</td>\n",
       "      <td>51</td>\n",
       "      <td>...</td>\n",
       "      <td>2.0</td>\n",
       "      <td>1150.0</td>\n",
       "      <td>4.0</td>\n",
       "      <td>2</td>\n",
       "      <td>1.0</td>\n",
       "      <td>2.0</td>\n",
       "      <td>2.0</td>\n",
       "      <td>1.0</td>\n",
       "      <td>1150.0</td>\n",
       "      <td>20160623</td>\n",
       "    </tr>\n",
       "    <tr>\n",
       "      <th>4</th>\n",
       "      <td>2014</td>\n",
       "      <td>11</td>\n",
       "      <td>15</td>\n",
       "      <td>2</td>\n",
       "      <td>2</td>\n",
       "      <td>4</td>\n",
       "      <td>6</td>\n",
       "      <td>11</td>\n",
       "      <td>1970</td>\n",
       "      <td>43</td>\n",
       "      <td>...</td>\n",
       "      <td>2.0</td>\n",
       "      <td>1150.0</td>\n",
       "      <td>4.0</td>\n",
       "      <td>3</td>\n",
       "      <td>1.0</td>\n",
       "      <td>2.0</td>\n",
       "      <td>2.0</td>\n",
       "      <td>1.0</td>\n",
       "      <td>1150.0</td>\n",
       "      <td>20160623</td>\n",
       "    </tr>\n",
       "  </tbody>\n",
       "</table>\n",
       "<p>5 rows × 341 columns</p>\n",
       "</div>"
      ],
      "text/plain": [
       "    0    1    2    3    4    5    6    7     8    9      ...     331     332  \\\n",
       "0  2014   11   15    1    1    2   19    8  1987   27    ...     3.0   500.0   \n",
       "1  2014   11   15    1    2    4   19    1  1986   28    ...     3.0   500.0   \n",
       "2  2014   11   15    1    3    2   14    5  2013    1    ...     3.0   500.0   \n",
       "3  2014   11   15    2    1    2    8    4  1963   51    ...     2.0  1150.0   \n",
       "4  2014   11   15    2    2    4    6   11  1970   43    ...     2.0  1150.0   \n",
       "\n",
       "   333  334  335  336  337  338     339       340  \n",
       "0  3.0    3  1.0  2.0  2.0  1.0   500.0  20160623  \n",
       "1  3.0    4  2.0  NaN  2.0  1.0   500.0  20160623  \n",
       "2  3.0    1  NaN  NaN  NaN  NaN   500.0  20160623  \n",
       "3  4.0    2  1.0  2.0  2.0  1.0  1150.0  20160623  \n",
       "4  4.0    3  1.0  2.0  2.0  1.0  1150.0  20160623  \n",
       "\n",
       "[5 rows x 341 columns]"
      ]
     },
     "execution_count": 6,
     "metadata": {},
     "output_type": "execute_result"
    }
   ],
   "source": [
    "pnad2014.head()"
   ]
  },
  {
   "cell_type": "code",
   "execution_count": 7,
   "metadata": {
    "collapsed": false
   },
   "outputs": [
    {
     "data": {
      "text/plain": [
       "Index(['Coluna', 'Tamanho', 'Título'], dtype='object')"
      ]
     },
     "execution_count": 7,
     "metadata": {},
     "output_type": "execute_result"
    }
   ],
   "source": [
    "estrutura.columns"
   ]
  },
  {
   "cell_type": "code",
   "execution_count": 9,
   "metadata": {
    "collapsed": true
   },
   "outputs": [],
   "source": [
    "pnad2014.columns = estrutura.Coluna"
   ]
  },
  {
   "cell_type": "code",
   "execution_count": 10,
   "metadata": {
    "collapsed": false
   },
   "outputs": [
    {
     "data": {
      "text/html": [
       "<div>\n",
       "<table border=\"1\" class=\"dataframe\">\n",
       "  <thead>\n",
       "    <tr style=\"text-align: right;\">\n",
       "      <th>Coluna</th>\n",
       "      <th>V0101</th>\n",
       "      <th>UF</th>\n",
       "      <th>V0102</th>\n",
       "      <th>V0103</th>\n",
       "      <th>V0301</th>\n",
       "      <th>V0302</th>\n",
       "      <th>V3031</th>\n",
       "      <th>V3032</th>\n",
       "      <th>V3033</th>\n",
       "      <th>V8005</th>\n",
       "      <th>...</th>\n",
       "      <th>V4741</th>\n",
       "      <th>V4742</th>\n",
       "      <th>V4743</th>\n",
       "      <th>V4745</th>\n",
       "      <th>V4746</th>\n",
       "      <th>V4747</th>\n",
       "      <th>V4748</th>\n",
       "      <th>V4749</th>\n",
       "      <th>V4750</th>\n",
       "      <th>V9993</th>\n",
       "    </tr>\n",
       "  </thead>\n",
       "  <tbody>\n",
       "    <tr>\n",
       "      <th>0</th>\n",
       "      <td>2014</td>\n",
       "      <td>11</td>\n",
       "      <td>15</td>\n",
       "      <td>1</td>\n",
       "      <td>1</td>\n",
       "      <td>2</td>\n",
       "      <td>19</td>\n",
       "      <td>8</td>\n",
       "      <td>1987</td>\n",
       "      <td>27</td>\n",
       "      <td>...</td>\n",
       "      <td>3.0</td>\n",
       "      <td>500.0</td>\n",
       "      <td>3.0</td>\n",
       "      <td>3</td>\n",
       "      <td>1.0</td>\n",
       "      <td>2.0</td>\n",
       "      <td>2.0</td>\n",
       "      <td>1.0</td>\n",
       "      <td>500.0</td>\n",
       "      <td>20160623</td>\n",
       "    </tr>\n",
       "    <tr>\n",
       "      <th>1</th>\n",
       "      <td>2014</td>\n",
       "      <td>11</td>\n",
       "      <td>15</td>\n",
       "      <td>1</td>\n",
       "      <td>2</td>\n",
       "      <td>4</td>\n",
       "      <td>19</td>\n",
       "      <td>1</td>\n",
       "      <td>1986</td>\n",
       "      <td>28</td>\n",
       "      <td>...</td>\n",
       "      <td>3.0</td>\n",
       "      <td>500.0</td>\n",
       "      <td>3.0</td>\n",
       "      <td>4</td>\n",
       "      <td>2.0</td>\n",
       "      <td>NaN</td>\n",
       "      <td>2.0</td>\n",
       "      <td>1.0</td>\n",
       "      <td>500.0</td>\n",
       "      <td>20160623</td>\n",
       "    </tr>\n",
       "    <tr>\n",
       "      <th>2</th>\n",
       "      <td>2014</td>\n",
       "      <td>11</td>\n",
       "      <td>15</td>\n",
       "      <td>1</td>\n",
       "      <td>3</td>\n",
       "      <td>2</td>\n",
       "      <td>14</td>\n",
       "      <td>5</td>\n",
       "      <td>2013</td>\n",
       "      <td>1</td>\n",
       "      <td>...</td>\n",
       "      <td>3.0</td>\n",
       "      <td>500.0</td>\n",
       "      <td>3.0</td>\n",
       "      <td>1</td>\n",
       "      <td>NaN</td>\n",
       "      <td>NaN</td>\n",
       "      <td>NaN</td>\n",
       "      <td>NaN</td>\n",
       "      <td>500.0</td>\n",
       "      <td>20160623</td>\n",
       "    </tr>\n",
       "    <tr>\n",
       "      <th>3</th>\n",
       "      <td>2014</td>\n",
       "      <td>11</td>\n",
       "      <td>15</td>\n",
       "      <td>2</td>\n",
       "      <td>1</td>\n",
       "      <td>2</td>\n",
       "      <td>8</td>\n",
       "      <td>4</td>\n",
       "      <td>1963</td>\n",
       "      <td>51</td>\n",
       "      <td>...</td>\n",
       "      <td>2.0</td>\n",
       "      <td>1150.0</td>\n",
       "      <td>4.0</td>\n",
       "      <td>2</td>\n",
       "      <td>1.0</td>\n",
       "      <td>2.0</td>\n",
       "      <td>2.0</td>\n",
       "      <td>1.0</td>\n",
       "      <td>1150.0</td>\n",
       "      <td>20160623</td>\n",
       "    </tr>\n",
       "    <tr>\n",
       "      <th>4</th>\n",
       "      <td>2014</td>\n",
       "      <td>11</td>\n",
       "      <td>15</td>\n",
       "      <td>2</td>\n",
       "      <td>2</td>\n",
       "      <td>4</td>\n",
       "      <td>6</td>\n",
       "      <td>11</td>\n",
       "      <td>1970</td>\n",
       "      <td>43</td>\n",
       "      <td>...</td>\n",
       "      <td>2.0</td>\n",
       "      <td>1150.0</td>\n",
       "      <td>4.0</td>\n",
       "      <td>3</td>\n",
       "      <td>1.0</td>\n",
       "      <td>2.0</td>\n",
       "      <td>2.0</td>\n",
       "      <td>1.0</td>\n",
       "      <td>1150.0</td>\n",
       "      <td>20160623</td>\n",
       "    </tr>\n",
       "  </tbody>\n",
       "</table>\n",
       "<p>5 rows × 341 columns</p>\n",
       "</div>"
      ],
      "text/plain": [
       "Coluna  V0101  UF  V0102  V0103  V0301  V0302  V3031  V3032  V3033  V8005  \\\n",
       "0        2014  11     15      1      1      2     19      8   1987     27   \n",
       "1        2014  11     15      1      2      4     19      1   1986     28   \n",
       "2        2014  11     15      1      3      2     14      5   2013      1   \n",
       "3        2014  11     15      2      1      2      8      4   1963     51   \n",
       "4        2014  11     15      2      2      4      6     11   1970     43   \n",
       "\n",
       "Coluna    ...     V4741   V4742  V4743  V4745  V4746  V4747  V4748  V4749  \\\n",
       "0         ...       3.0   500.0    3.0      3    1.0    2.0    2.0    1.0   \n",
       "1         ...       3.0   500.0    3.0      4    2.0    NaN    2.0    1.0   \n",
       "2         ...       3.0   500.0    3.0      1    NaN    NaN    NaN    NaN   \n",
       "3         ...       2.0  1150.0    4.0      2    1.0    2.0    2.0    1.0   \n",
       "4         ...       2.0  1150.0    4.0      3    1.0    2.0    2.0    1.0   \n",
       "\n",
       "Coluna   V4750     V9993  \n",
       "0        500.0  20160623  \n",
       "1        500.0  20160623  \n",
       "2        500.0  20160623  \n",
       "3       1150.0  20160623  \n",
       "4       1150.0  20160623  \n",
       "\n",
       "[5 rows x 341 columns]"
      ]
     },
     "execution_count": 10,
     "metadata": {},
     "output_type": "execute_result"
    }
   ],
   "source": [
    "pnad2014.head()"
   ]
  },
  {
   "cell_type": "code",
   "execution_count": 11,
   "metadata": {
    "collapsed": true
   },
   "outputs": [],
   "source": [
    "pnad2011 = pd.read_csv(\"PES2011.csv\", sep = ',')"
   ]
  },
  {
   "cell_type": "code",
   "execution_count": 13,
   "metadata": {
    "collapsed": false,
    "scrolled": true
   },
   "outputs": [
    {
     "data": {
      "text/html": [
       "<div>\n",
       "<table border=\"1\" class=\"dataframe\">\n",
       "  <thead>\n",
       "    <tr style=\"text-align: right;\">\n",
       "      <th></th>\n",
       "      <th>V0101</th>\n",
       "      <th>UF</th>\n",
       "      <th>V0102</th>\n",
       "      <th>V0103</th>\n",
       "      <th>V0301</th>\n",
       "      <th>V0302</th>\n",
       "      <th>V3031</th>\n",
       "      <th>V3032</th>\n",
       "      <th>V3033</th>\n",
       "      <th>V8005</th>\n",
       "      <th>...</th>\n",
       "      <th>V4741</th>\n",
       "      <th>V4742</th>\n",
       "      <th>V4743</th>\n",
       "      <th>V4745</th>\n",
       "      <th>V4746</th>\n",
       "      <th>V4747</th>\n",
       "      <th>V4748</th>\n",
       "      <th>V4749</th>\n",
       "      <th>V4750</th>\n",
       "      <th>V9993</th>\n",
       "    </tr>\n",
       "  </thead>\n",
       "  <tbody>\n",
       "    <tr>\n",
       "      <th>0</th>\n",
       "      <td>2011</td>\n",
       "      <td>11</td>\n",
       "      <td>11000000.0</td>\n",
       "      <td>1</td>\n",
       "      <td>1</td>\n",
       "      <td>2</td>\n",
       "      <td>25</td>\n",
       "      <td>12</td>\n",
       "      <td>1961</td>\n",
       "      <td>49</td>\n",
       "      <td>...</td>\n",
       "      <td>4.0</td>\n",
       "      <td>1.000000e+12</td>\n",
       "      <td>99.0</td>\n",
       "      <td>2</td>\n",
       "      <td>1.0</td>\n",
       "      <td>2.0</td>\n",
       "      <td>2.0</td>\n",
       "      <td>1.0</td>\n",
       "      <td>1.000000e+12</td>\n",
       "      <td>20100000.0</td>\n",
       "    </tr>\n",
       "    <tr>\n",
       "      <th>1</th>\n",
       "      <td>2011</td>\n",
       "      <td>11</td>\n",
       "      <td>11000000.0</td>\n",
       "      <td>1</td>\n",
       "      <td>2</td>\n",
       "      <td>4</td>\n",
       "      <td>1</td>\n",
       "      <td>4</td>\n",
       "      <td>1978</td>\n",
       "      <td>33</td>\n",
       "      <td>...</td>\n",
       "      <td>4.0</td>\n",
       "      <td>1.000000e+12</td>\n",
       "      <td>99.0</td>\n",
       "      <td>6</td>\n",
       "      <td>2.0</td>\n",
       "      <td>NaN</td>\n",
       "      <td>NaN</td>\n",
       "      <td>2.0</td>\n",
       "      <td>1.000000e+12</td>\n",
       "      <td>20100000.0</td>\n",
       "    </tr>\n",
       "    <tr>\n",
       "      <th>2</th>\n",
       "      <td>2011</td>\n",
       "      <td>11</td>\n",
       "      <td>11000000.0</td>\n",
       "      <td>1</td>\n",
       "      <td>3</td>\n",
       "      <td>4</td>\n",
       "      <td>15</td>\n",
       "      <td>6</td>\n",
       "      <td>1996</td>\n",
       "      <td>15</td>\n",
       "      <td>...</td>\n",
       "      <td>4.0</td>\n",
       "      <td>1.000000e+12</td>\n",
       "      <td>99.0</td>\n",
       "      <td>3</td>\n",
       "      <td>2.0</td>\n",
       "      <td>NaN</td>\n",
       "      <td>NaN</td>\n",
       "      <td>2.0</td>\n",
       "      <td>1.000000e+12</td>\n",
       "      <td>20100000.0</td>\n",
       "    </tr>\n",
       "    <tr>\n",
       "      <th>3</th>\n",
       "      <td>2011</td>\n",
       "      <td>11</td>\n",
       "      <td>11000000.0</td>\n",
       "      <td>1</td>\n",
       "      <td>4</td>\n",
       "      <td>2</td>\n",
       "      <td>3</td>\n",
       "      <td>12</td>\n",
       "      <td>2001</td>\n",
       "      <td>9</td>\n",
       "      <td>...</td>\n",
       "      <td>4.0</td>\n",
       "      <td>1.000000e+12</td>\n",
       "      <td>99.0</td>\n",
       "      <td>2</td>\n",
       "      <td>2.0</td>\n",
       "      <td>NaN</td>\n",
       "      <td>NaN</td>\n",
       "      <td>2.0</td>\n",
       "      <td>1.000000e+12</td>\n",
       "      <td>20100000.0</td>\n",
       "    </tr>\n",
       "    <tr>\n",
       "      <th>4</th>\n",
       "      <td>2011</td>\n",
       "      <td>11</td>\n",
       "      <td>11000000.0</td>\n",
       "      <td>2</td>\n",
       "      <td>1</td>\n",
       "      <td>4</td>\n",
       "      <td>16</td>\n",
       "      <td>10</td>\n",
       "      <td>1959</td>\n",
       "      <td>51</td>\n",
       "      <td>...</td>\n",
       "      <td>4.0</td>\n",
       "      <td>1.461000e+03</td>\n",
       "      <td>5.0</td>\n",
       "      <td>4</td>\n",
       "      <td>1.0</td>\n",
       "      <td>2.0</td>\n",
       "      <td>2.0</td>\n",
       "      <td>1.0</td>\n",
       "      <td>1.461000e+03</td>\n",
       "      <td>20100000.0</td>\n",
       "    </tr>\n",
       "  </tbody>\n",
       "</table>\n",
       "<p>5 rows × 324 columns</p>\n",
       "</div>"
      ],
      "text/plain": [
       "   V0101  UF       V0102  V0103  V0301  V0302  V3031  V3032  V3033  V8005  \\\n",
       "0   2011  11  11000000.0      1      1      2     25     12   1961     49   \n",
       "1   2011  11  11000000.0      1      2      4      1      4   1978     33   \n",
       "2   2011  11  11000000.0      1      3      4     15      6   1996     15   \n",
       "3   2011  11  11000000.0      1      4      2      3     12   2001      9   \n",
       "4   2011  11  11000000.0      2      1      4     16     10   1959     51   \n",
       "\n",
       "      ...      V4741         V4742  V4743  V4745  V4746  V4747  V4748  V4749  \\\n",
       "0     ...        4.0  1.000000e+12   99.0      2    1.0    2.0    2.0    1.0   \n",
       "1     ...        4.0  1.000000e+12   99.0      6    2.0    NaN    NaN    2.0   \n",
       "2     ...        4.0  1.000000e+12   99.0      3    2.0    NaN    NaN    2.0   \n",
       "3     ...        4.0  1.000000e+12   99.0      2    2.0    NaN    NaN    2.0   \n",
       "4     ...        4.0  1.461000e+03    5.0      4    1.0    2.0    2.0    1.0   \n",
       "\n",
       "          V4750       V9993  \n",
       "0  1.000000e+12  20100000.0  \n",
       "1  1.000000e+12  20100000.0  \n",
       "2  1.000000e+12  20100000.0  \n",
       "3  1.000000e+12  20100000.0  \n",
       "4  1.461000e+03  20100000.0  \n",
       "\n",
       "[5 rows x 324 columns]"
      ]
     },
     "execution_count": 13,
     "metadata": {},
     "output_type": "execute_result"
    }
   ],
   "source": [
    "pnad2011.head()"
   ]
  },
  {
   "cell_type": "markdown",
   "metadata": {},
   "source": [
    "# Para efeitos de visualização, os gráficos aqui mostrados seguiram um padrão de plotagem: um gráfico de 2014 se seguirá de um gráfico de 2011 para comparação, exceto em alguns casos em que se queira analisar apenas 2014 ou nas variáveis que só estão presentes no PNAD de 2014"
   ]
  },
  {
   "cell_type": "code",
   "execution_count": 14,
   "metadata": {
    "collapsed": true
   },
   "outputs": [],
   "source": [
    "pnad2014[\"REGIAO\"] = pnad2014.UF\n",
    "\n",
    "def regiao(uf):\n",
    "    if uf < 18:\n",
    "        return \"Norte\"\n",
    "    elif uf < 30:\n",
    "        return \"Nordeste\"\n",
    "    elif uf < 36:\n",
    "        return \"Sudeste\"\n",
    "    elif uf < 44:\n",
    "        return \"Sul\"\n",
    "    else:\n",
    "        return \"Centro-oeste\"\n",
    "\n",
    "pnad2014.REGIAO = pnad2014.REGIAO.map(regiao)"
   ]
  },
  {
   "cell_type": "code",
   "execution_count": 15,
   "metadata": {
    "collapsed": true
   },
   "outputs": [],
   "source": [
    "pnad2011[\"REGIAO\"] = pnad2011.UF\n",
    "\n",
    "def regiao(uf):\n",
    "    if uf < 18:\n",
    "        return \"Norte\"\n",
    "    elif uf < 30:\n",
    "        return \"Nordeste\"\n",
    "    elif uf < 36:\n",
    "        return \"Sudeste\"\n",
    "    elif uf < 44:\n",
    "        return \"Sul\"\n",
    "    else:\n",
    "        return \"Centro-oeste\"\n",
    "\n",
    "pnad2011.REGIAO = pnad2011.REGIAO.map(regiao)"
   ]
  },
  {
   "cell_type": "code",
   "execution_count": 16,
   "metadata": {
    "collapsed": true
   },
   "outputs": [],
   "source": [
    "#Renomeando os Estados\n",
    "pnad2014.UF = pnad2014.UF.astype('category')\n",
    "pnad2014.UF.cat.categories=('RR', 'AC', 'AM', 'RO', \n",
    "                            'PA', 'AP', 'TO', 'MA', \n",
    "                            'PI', 'CE', 'RN', 'PB', \n",
    "                            'PE', 'AL', 'SE', 'BA', \n",
    "                            'MG', 'ES', 'RJ', 'SP', \n",
    "                            'PR', 'SC', 'RS', 'MS', \n",
    "                            'MT', 'GO', 'DF')"
   ]
  },
  {
   "cell_type": "code",
   "execution_count": 17,
   "metadata": {
    "collapsed": true
   },
   "outputs": [],
   "source": [
    "#Renomeando os Estados\n",
    "pnad2011.UF = pnad2011.UF.astype('category')\n",
    "pnad2011.UF.cat.categories=('RR', 'AC', 'AM', 'RO', \n",
    "                            'PA', 'AP', 'TO', 'MA', \n",
    "                            'PI', 'CE', 'RN', 'PB', \n",
    "                            'PE', 'AL', 'SE', 'BA', \n",
    "                            'MG', 'ES', 'RJ', 'SP', \n",
    "                            'PR', 'SC', 'RS', 'MS', \n",
    "                            'MT', 'GO', 'DF')"
   ]
  },
  {
   "cell_type": "code",
   "execution_count": 18,
   "metadata": {
    "collapsed": false
   },
   "outputs": [
    {
     "data": {
      "text/plain": [
       "count    362627.000000\n",
       "mean         33.554051\n",
       "std          21.017324\n",
       "min           0.000000\n",
       "25%          16.000000\n",
       "50%          32.000000\n",
       "75%          49.000000\n",
       "max         120.000000\n",
       "Name: V8005, dtype: float64"
      ]
     },
     "execution_count": 18,
     "metadata": {},
     "output_type": "execute_result"
    }
   ],
   "source": [
    "idade = pnad2014.V8005\n",
    "idade.describe()"
   ]
  },
  {
   "cell_type": "code",
   "execution_count": 19,
   "metadata": {
    "collapsed": false
   },
   "outputs": [
    {
     "data": {
      "text/plain": [
       "count    358919.000000\n",
       "mean         32.223613\n",
       "std          20.642626\n",
       "min           0.000000\n",
       "25%          15.000000\n",
       "50%          30.000000\n",
       "75%          47.000000\n",
       "max         111.000000\n",
       "Name: V8005, dtype: float64"
      ]
     },
     "execution_count": 19,
     "metadata": {},
     "output_type": "execute_result"
    }
   ],
   "source": [
    "idade_11 = pnad2011.V8005\n",
    "idade_11.describe()"
   ]
  },
  {
   "cell_type": "markdown",
   "metadata": {},
   "source": [
    "### Através do describe da variável idade nos dois anos ja podemos identificar algumas mudanças, como o aumento da média da idade do brasileiro, o aumento do valor do primeiro, segundo e do terceiro quartil e o aumento da idade máxima apresentada. Tudo isso representa um aumento na expectativa de vida do brasileiro."
   ]
  },
  {
   "cell_type": "code",
   "execution_count": 20,
   "metadata": {
    "collapsed": false
   },
   "outputs": [
    {
     "name": "stderr",
     "output_type": "stream",
     "text": [
      "C:\\Anaconda3\\lib\\site-packages\\ipykernel\\__main__.py:2: SettingWithCopyWarning: \n",
      "A value is trying to be set on a copy of a slice from a DataFrame\n",
      "\n",
      "See the caveats in the documentation: http://pandas.pydata.org/pandas-docs/stable/indexing.html#indexing-view-versus-copy\n",
      "  from ipykernel import kernelapp as app\n",
      "C:\\Anaconda3\\lib\\site-packages\\ipykernel\\__main__.py:3: SettingWithCopyWarning: \n",
      "A value is trying to be set on a copy of a slice from a DataFrame\n",
      "\n",
      "See the caveats in the documentation: http://pandas.pydata.org/pandas-docs/stable/indexing.html#indexing-view-versus-copy\n",
      "  app.launch_new_instance()\n",
      "C:\\Anaconda3\\lib\\site-packages\\ipykernel\\__main__.py:5: SettingWithCopyWarning: \n",
      "A value is trying to be set on a copy of a slice from a DataFrame\n",
      "\n",
      "See the caveats in the documentation: http://pandas.pydata.org/pandas-docs/stable/indexing.html#indexing-view-versus-copy\n",
      "C:\\Anaconda3\\lib\\site-packages\\ipykernel\\__main__.py:6: SettingWithCopyWarning: \n",
      "A value is trying to be set on a copy of a slice from a DataFrame\n",
      "\n",
      "See the caveats in the documentation: http://pandas.pydata.org/pandas-docs/stable/indexing.html#indexing-view-versus-copy\n"
     ]
    }
   ],
   "source": [
    "pnad2014[\"IDOSO\"] = pnad2014.V8005\n",
    "pnad2014.IDOSO[(pnad2014.V8005 <= 65)] = \"False\"\n",
    "pnad2014.IDOSO[(pnad2014.V8005 > 65)] = \"True\"\n",
    "pnad2014[\"JOVEM\"] = pnad2014.V8005\n",
    "pnad2014.JOVEM[(pnad2014.V8005 <= 24)] = \"False\"\n",
    "pnad2014.JOVEM[(pnad2014.V8005 > 17)] = \"True\""
   ]
  },
  {
   "cell_type": "code",
   "execution_count": 21,
   "metadata": {
    "collapsed": false
   },
   "outputs": [
    {
     "name": "stderr",
     "output_type": "stream",
     "text": [
      "C:\\Anaconda3\\lib\\site-packages\\ipykernel\\__main__.py:2: SettingWithCopyWarning: \n",
      "A value is trying to be set on a copy of a slice from a DataFrame\n",
      "\n",
      "See the caveats in the documentation: http://pandas.pydata.org/pandas-docs/stable/indexing.html#indexing-view-versus-copy\n",
      "  from ipykernel import kernelapp as app\n",
      "C:\\Anaconda3\\lib\\site-packages\\ipykernel\\__main__.py:3: SettingWithCopyWarning: \n",
      "A value is trying to be set on a copy of a slice from a DataFrame\n",
      "\n",
      "See the caveats in the documentation: http://pandas.pydata.org/pandas-docs/stable/indexing.html#indexing-view-versus-copy\n",
      "  app.launch_new_instance()\n",
      "C:\\Anaconda3\\lib\\site-packages\\ipykernel\\__main__.py:5: SettingWithCopyWarning: \n",
      "A value is trying to be set on a copy of a slice from a DataFrame\n",
      "\n",
      "See the caveats in the documentation: http://pandas.pydata.org/pandas-docs/stable/indexing.html#indexing-view-versus-copy\n",
      "C:\\Anaconda3\\lib\\site-packages\\ipykernel\\__main__.py:6: SettingWithCopyWarning: \n",
      "A value is trying to be set on a copy of a slice from a DataFrame\n",
      "\n",
      "See the caveats in the documentation: http://pandas.pydata.org/pandas-docs/stable/indexing.html#indexing-view-versus-copy\n"
     ]
    }
   ],
   "source": [
    "pnad2011[\"IDOSO\"] = pnad2011.V8005\n",
    "pnad2011.IDOSO[(pnad2011.V8005 <= 65)] = \"False\"\n",
    "pnad2011.IDOSO[(pnad2011.V8005 > 65)] = \"True\"\n",
    "pnad2011[\"JOVEM\"] = pnad2011.V8005\n",
    "pnad2011.JOVEM[(pnad2011.V8005 <= 24)] = \"False\"\n",
    "pnad2011.JOVEM[(pnad2011.V8005 > 17)] = \"True\""
   ]
  },
  {
   "cell_type": "code",
   "execution_count": 222,
   "metadata": {
    "collapsed": false
   },
   "outputs": [
    {
     "data": {
      "text/plain": [
       "<matplotlib.text.Text at 0x63223cb898>"
      ]
     },
     "execution_count": 222,
     "metadata": {},
     "output_type": "execute_result"
    },
    {
     "data": {
      "image/png": "[encoded data removed]",
      "text/plain": [
       "<matplotlib.figure.Figure at 0x631d3fa358>"
      ]
     },
     "metadata": {},
     "output_type": "display_data"
    }
   ],
   "source": [
    "idade = pnad2014.V8005\n",
    "idade.plot.hist(bins = 20)\n",
    "plt.title(\"Histograma da variável idade em 2014\")\n",
    "\n",
    "idade_11 = pnad2011.V8005\n",
    "idade_11.plot.hist(bins = 20,  color=\"red\")\n",
    "plt.title(\"Histograma da variável idade em 2011 e 2014\")"
   ]
  },
  {
   "cell_type": "code",
   "execution_count": 32,
   "metadata": {
    "collapsed": false
   },
   "outputs": [
    {
     "data": {
      "text/plain": [
       "<matplotlib.text.Text at 0x6303c560f0>"
      ]
     },
     "execution_count": 32,
     "metadata": {},
     "output_type": "execute_result"
    },
    {
     "data": {
      "image/png": "[encoded data removed]",
      "text/plain": [
       "<matplotlib.figure.Figure at 0x6303b5cb70>"
      ]
     },
     "metadata": {},
     "output_type": "display_data"
    },
    {
     "data": {
      "image/png": "[encoded data removed]",
      "text/plain": [
       "<matplotlib.figure.Figure at 0x6303b5e3c8>"
      ]
     },
     "metadata": {},
     "output_type": "display_data"
    }
   ],
   "source": [
    "pnad2014.boxplot(column=\"V8005\", by=\"REGIAO\")\n",
    "plt.title(\"BoxPlot idade por região em 2014\")\n",
    "pnad2011.boxplot(column=\"V8005\", by=\"REGIAO\")\n",
    "plt.title(\"BoxPlot idade por região em 2011\")"
   ]
  },
  {
   "cell_type": "markdown",
   "metadata": {},
   "source": [
    "## Através da analise dos dois histogramas apresentados e dos dois boxplots, podemos observar que em poucos anos, o número de pessoas que estão na casa dos 20 anos tornou-se a maior, e, além disso, no boxplot, percebemos que nestes anos manteve-se um padrão: a maior mediana de idades ocorre no Sudeste e no Sul, ou seja, os idosos concentra-se nestas areás."
   ]
  },
  {
   "cell_type": "code",
   "execution_count": 93,
   "metadata": {
    "collapsed": false
   },
   "outputs": [
    {
     "data": {
      "text/plain": [
       "<matplotlib.legend.Legend at 0x6303e96c88>"
      ]
     },
     "execution_count": 93,
     "metadata": {},
     "output_type": "execute_result"
    },
    {
     "data": {
      "image/png": "[encoded data removed]",
      "text/plain": [
       "<matplotlib.figure.Figure at 0x6308708358>"
      ]
     },
     "metadata": {},
     "output_type": "display_data"
    }
   ],
   "source": [
    "idosos_por_regiao_11 = pd.crosstab(pnad2011.IDOSO, pnad2011.REGIAO)\n",
    "idosos_total_11 = pnad2011.IDOSO.value_counts(True)\n",
    "plot11 = idosos_total_11.plot(kind='pie', autopct='%.1f')\n",
    "plt.title('Idosos em 2011')\n",
    "plt.legend(loc='best')"
   ]
  },
  {
   "cell_type": "code",
   "execution_count": 92,
   "metadata": {
    "collapsed": false
   },
   "outputs": [
    {
     "data": {
      "text/plain": [
       "<matplotlib.legend.Legend at 0x6303e42588>"
      ]
     },
     "execution_count": 92,
     "metadata": {},
     "output_type": "execute_result"
    },
    {
     "data": {
      "image/png": "[encoded data removed]",
      "text/plain": [
       "<matplotlib.figure.Figure at 0x630f518668>"
      ]
     },
     "metadata": {},
     "output_type": "display_data"
    }
   ],
   "source": [
    "idosos_por_regiao = pd.crosstab(pnad2014.IDOSO, pnad2014.REGIAO)\n",
    "idosos_total = pnad2014.IDOSO.value_counts(True)\n",
    "plot1 = idosos_total.plot(kind='pie', autopct='%.1f')\n",
    "plt.title('Idosos em 2014')\n",
    "plt.legend(loc='best')"
   ]
  },
  {
   "cell_type": "markdown",
   "metadata": {},
   "source": [
    "## Houve um aumento de 1% no número de idosos no País"
   ]
  },
  {
   "cell_type": "code",
   "execution_count": 160,
   "metadata": {
    "collapsed": false
   },
   "outputs": [
    {
     "data": {
      "text/plain": [
       "<matplotlib.text.Text at 0x63117c49e8>"
      ]
     },
     "execution_count": 160,
     "metadata": {},
     "output_type": "execute_result"
    },
    {
     "data": {
      "image/png": "[encoded data removed]",
      "text/plain": [
       "<matplotlib.figure.Figure at 0x63132b0160>"
      ]
     },
     "metadata": {},
     "output_type": "display_data"
    }
   ],
   "source": [
    "aposentados11 = pnad2011.V9122.astype(\"category\")\n",
    "aposentados11.cat.categories = (\"Aposentado\", \"Não Aposentado\")\n",
    "ap_maior_de_15_11 = aposentados11[(pnad2011.V8005 >= 15) & (pnad2011.IDOSO == 'True')]\n",
    "ap_freq_11 = ap_maior_de_15_11.value_counts(True) \n",
    "ap_freq_11.plot(kind=\"pie\", autopct='%.1f')\n",
    "plt.title(\"Número de idosos aposentados em 2011\")"
   ]
  },
  {
   "cell_type": "code",
   "execution_count": 159,
   "metadata": {
    "collapsed": false
   },
   "outputs": [
    {
     "data": {
      "text/plain": [
       "<matplotlib.text.Text at 0x63112cd2e8>"
      ]
     },
     "execution_count": 159,
     "metadata": {},
     "output_type": "execute_result"
    },
    {
     "data": {
      "image/png": "[encoded data removed]",
      "text/plain": [
       "<matplotlib.figure.Figure at 0x630c0fd320>"
      ]
     },
     "metadata": {},
     "output_type": "display_data"
    }
   ],
   "source": [
    "aposentados = pnad2014.V9122.astype(\"category\")\n",
    "aposentados.cat.categories = (\"Aposentado\", \"Não Aposentado\")\n",
    "ap_maior_de_15 = aposentados[(pnad2014.V8005 >= 15) & (pnad2014.IDOSO == 'True')]\n",
    "ap_freq = ap_maior_de_15.value_counts(True) \n",
    "ap_freq.plot(kind=\"pie\", autopct='%.1f')\n",
    "plt.title(\"Número de idosos aposentados em 2014\")"
   ]
  },
  {
   "cell_type": "markdown",
   "metadata": {},
   "source": [
    "## Aqui, ao compararmos o gráfico de 2011 com o de 2014, vemos que a porcentagem de idosos aposentados cresceu por volta de  0.5%"
   ]
  },
  {
   "cell_type": "markdown",
   "metadata": {},
   "source": [
    "## Portanto, lidaremos com os aposentados e com os idosos  em situações específicas, já que os idosos representam a maioria dos aposentados no Brasil."
   ]
  },
  {
   "cell_type": "markdown",
   "metadata": {},
   "source": [
    "# O objetivo desta pesquisa é comparar o acesso da tecnologia entre jovens e aposentados. Além disso, mostraremos se o crescimento da utilização da tecnologia é maior para idosos ou para jovens."
   ]
  },
  {
   "cell_type": "code",
   "execution_count": 139,
   "metadata": {
    "collapsed": false
   },
   "outputs": [
    {
     "data": {
      "text/html": [
       "<div>\n",
       "<table border=\"1\" class=\"dataframe\">\n",
       "  <thead>\n",
       "    <tr style=\"text-align: right;\">\n",
       "      <th>V9122</th>\n",
       "      <th>Aposentado</th>\n",
       "    </tr>\n",
       "    <tr>\n",
       "      <th>V06111</th>\n",
       "      <th></th>\n",
       "    </tr>\n",
       "  </thead>\n",
       "  <tbody>\n",
       "    <tr>\n",
       "      <th>Sim</th>\n",
       "      <td>8909</td>\n",
       "    </tr>\n",
       "    <tr>\n",
       "      <th>Não</th>\n",
       "      <td>7673</td>\n",
       "    </tr>\n",
       "  </tbody>\n",
       "</table>\n",
       "</div>"
      ],
      "text/plain": [
       "V9122   Aposentado\n",
       "V06111            \n",
       "Sim           8909\n",
       "Não           7673"
      ]
     },
     "execution_count": 139,
     "metadata": {},
     "output_type": "execute_result"
    }
   ],
   "source": [
    "int_3_meses_11 = pnad2014.V06111\n",
    "int_3_meses_11 = int_3_meses_11.astype('category')\n",
    "int_3_meses_11.cat.categories = (\"Sim\",\"Não\")\n",
    "int_3_meses_aposentados_11 = pd.crosstab(int_3_meses_11, ap_maior_de_15_11[(pnad2011.IDOSO == 'True')])\n",
    "int_3_meses_aposentados_11.iloc[:, 0:1]"
   ]
  },
  {
   "cell_type": "code",
   "execution_count": 137,
   "metadata": {
    "collapsed": false
   },
   "outputs": [
    {
     "data": {
      "text/html": [
       "<div>\n",
       "<table border=\"1\" class=\"dataframe\">\n",
       "  <thead>\n",
       "    <tr style=\"text-align: right;\">\n",
       "      <th>V9122</th>\n",
       "      <th>Aposentado</th>\n",
       "    </tr>\n",
       "    <tr>\n",
       "      <th>V06111</th>\n",
       "      <th></th>\n",
       "    </tr>\n",
       "  </thead>\n",
       "  <tbody>\n",
       "    <tr>\n",
       "      <th>Sim</th>\n",
       "      <td>2311</td>\n",
       "    </tr>\n",
       "    <tr>\n",
       "      <th>Não</th>\n",
       "      <td>19443</td>\n",
       "    </tr>\n",
       "  </tbody>\n",
       "</table>\n",
       "</div>"
      ],
      "text/plain": [
       "V9122   Aposentado\n",
       "V06111            \n",
       "Sim           2311\n",
       "Não          19443"
      ]
     },
     "execution_count": 137,
     "metadata": {},
     "output_type": "execute_result"
    }
   ],
   "source": [
    "int_3_meses = pnad2014.V06111\n",
    "int_3_meses = int_3_meses.astype('category')\n",
    "int_3_meses.cat.categories = (\"Sim\",\"Não\")\n",
    "int_3_meses_aposentados = pd.crosstab(int_3_meses, ap_maior_de_15[(pnad2014.IDOSO == 'True')] )\n",
    "int_3_meses_aposentados.iloc[:, 0:1]"
   ]
  },
  {
   "cell_type": "code",
   "execution_count": 140,
   "metadata": {
    "collapsed": false
   },
   "outputs": [
    {
     "data": {
      "text/plain": [
       "<matplotlib.text.Text at 0x6314845828>"
      ]
     },
     "execution_count": 140,
     "metadata": {},
     "output_type": "execute_result"
    },
    {
     "data": {
      "image/png": "[encoded data removed]",
      "text/plain": [
       "<matplotlib.figure.Figure at 0x63147c1390>"
      ]
     },
     "metadata": {},
     "output_type": "display_data"
    }
   ],
   "source": [
    "tab_11 = int_3_meses_aposentados_11.iloc[:, 0:1]\n",
    "freq_11 = tab_11*100/tab_11.sum()\n",
    "freq_11.plot(kind='bar', color = 'red')\n",
    "plt.title(\"Frequencia de quantos Aposentados acessaram a internet nos últimos 3 meses\")"
   ]
  },
  {
   "cell_type": "markdown",
   "metadata": {},
   "source": [
    "## Em 2011 tinhamos mais de 50% com acesso a internet "
   ]
  },
  {
   "cell_type": "code",
   "execution_count": 138,
   "metadata": {
    "collapsed": false,
    "scrolled": true
   },
   "outputs": [
    {
     "data": {
      "text/plain": [
       "<matplotlib.text.Text at 0x63147cf3c8>"
      ]
     },
     "execution_count": 138,
     "metadata": {},
     "output_type": "execute_result"
    },
    {
     "data": {
      "image/png": "[encoded data removed]",
      "text/plain": [
       "<matplotlib.figure.Figure at 0x63133107f0>"
      ]
     },
     "metadata": {},
     "output_type": "display_data"
    }
   ],
   "source": [
    "tab = int_3_meses_aposentados.iloc[:, 0:1]\n",
    "freq = tab*100/tab.sum()\n",
    "freq.plot(kind='bar', color = 'red')\n",
    "plt.title(\"Frequencia de quantos Aposentados acessaram a internet nos últimos 3 meses\")"
   ]
  },
  {
   "cell_type": "markdown",
   "metadata": {},
   "source": [
    "## Enquanto que em 2014 temos apenas 10% de aposentados que acessam a internet, o que representa um grande retrocesso."
   ]
  },
  {
   "cell_type": "code",
   "execution_count": 161,
   "metadata": {
    "collapsed": false
   },
   "outputs": [
    {
     "data": {
      "text/plain": [
       "<matplotlib.text.Text at 0x630bc634e0>"
      ]
     },
     "execution_count": 161,
     "metadata": {},
     "output_type": "execute_result"
    },
    {
     "data": {
      "image/png": "[encoded data removed]",
      "text/plain": [
       "<matplotlib.figure.Figure at 0x630e168a58>"
      ]
     },
     "metadata": {},
     "output_type": "display_data"
    },
    {
     "data": {
      "image/png": "[encoded data removed]",
      "text/plain": [
       "<matplotlib.figure.Figure at 0x630bc6af98>"
      ]
     },
     "metadata": {},
     "output_type": "display_data"
    }
   ],
   "source": [
    "pnad2014[\"INDIV\"] = pnad2014.V8005\n",
    "def individuo (idade):\n",
    "    if idade < 12:\n",
    "        return \"Criança\"\n",
    "    elif idade < 19:\n",
    "        return \"Adolescente\"\n",
    "    elif idade < 25:\n",
    "        return \"Jovem\"\n",
    "    elif idade < 60:\n",
    "        return \"Adulto\"\n",
    "    else:\n",
    "        return \"Idoso\"\n",
    "\n",
    "pnad2011[\"INDIV\"] = pnad2011.V8005\n",
    "pnad2011.INDIV = pnad2011.INDIV.map(individuo)    \n",
    "tab_11 = pd.crosstab(pnad2011.INDIV, int_3_meses_11)\n",
    "tab_int_11 = tab_11.iloc[:,0:1]\n",
    "\n",
    "(tab_int_11*100/tab_int_11.sum()).plot(kind='bar', colormap=('rainbow'), stacked = True)\n",
    "plt.legend(loc='center left', bbox_to_anchor=(1.0, 0.5))\n",
    "plt.title(\"Acesso a internet por classificação de idade em 2011\")\n",
    "\n",
    "pnad2014.INDIV = pnad2014.INDIV.map(individuo)    \n",
    "tab = pd.crosstab(pnad2014.INDIV, int_3_meses)\n",
    "tab_int = tab.iloc[:,0:1]\n",
    "\n",
    "(tab_int*100/tab_int.sum()).plot(kind='bar', colormap=('rainbow'), stacked = True)\n",
    "plt.legend(loc='center left', bbox_to_anchor=(1.0, 0.5))\n",
    "plt.title(\"Acesso a internet por classificação de idade em 2014\")\n"
   ]
  },
  {
   "cell_type": "markdown",
   "metadata": {},
   "source": [
    "##  Aqui podemos observar que o acesso a internet a jovens cresceu um pouco de 2011 para 2014, porém seguindo uma tendencia contrária, o acesso para idosos diminuiu em quase metade."
   ]
  },
  {
   "cell_type": "code",
   "execution_count": 56,
   "metadata": {
    "collapsed": true
   },
   "outputs": [],
   "source": [
    "#possui celular ou não."
   ]
  },
  {
   "cell_type": "code",
   "execution_count": 142,
   "metadata": {
    "collapsed": false
   },
   "outputs": [
    {
     "data": {
      "text/html": [
       "<div>\n",
       "<table border=\"1\" class=\"dataframe\">\n",
       "  <thead>\n",
       "    <tr style=\"text-align: right;\">\n",
       "      <th>V9122</th>\n",
       "      <th>Aposentado</th>\n",
       "    </tr>\n",
       "    <tr>\n",
       "      <th>V06112</th>\n",
       "      <th></th>\n",
       "    </tr>\n",
       "  </thead>\n",
       "  <tbody>\n",
       "    <tr>\n",
       "      <th>Sim</th>\n",
       "      <td>10825</td>\n",
       "    </tr>\n",
       "    <tr>\n",
       "      <th>Não</th>\n",
       "      <td>10929</td>\n",
       "    </tr>\n",
       "  </tbody>\n",
       "</table>\n",
       "</div>"
      ],
      "text/plain": [
       "V9122   Aposentado\n",
       "V06112            \n",
       "Sim          10825\n",
       "Não          10929"
      ]
     },
     "execution_count": 142,
     "metadata": {},
     "output_type": "execute_result"
    }
   ],
   "source": [
    "tem_celular = pnad2014.V06112\n",
    "tem_celular = tem_celular.astype('category')\n",
    "tem_celular.cat.categories = (\"Sim\",\"Não\")\n",
    "tem_celular_aposentados = pd.crosstab(tem_celular, ap_maior_de_15[(pnad2014.IDOSO == 'True')])\n",
    "tabcel = tem_celular_aposentados.iloc[:,0:1]\n",
    "tabcel"
   ]
  },
  {
   "cell_type": "code",
   "execution_count": 143,
   "metadata": {
    "collapsed": false
   },
   "outputs": [
    {
     "data": {
      "text/html": [
       "<div>\n",
       "<table border=\"1\" class=\"dataframe\">\n",
       "  <thead>\n",
       "    <tr style=\"text-align: right;\">\n",
       "      <th>V9122</th>\n",
       "      <th>Aposentado</th>\n",
       "    </tr>\n",
       "    <tr>\n",
       "      <th>V06112</th>\n",
       "      <th></th>\n",
       "    </tr>\n",
       "  </thead>\n",
       "  <tbody>\n",
       "    <tr>\n",
       "      <th>Sim</th>\n",
       "      <td>7383</td>\n",
       "    </tr>\n",
       "    <tr>\n",
       "      <th>Não</th>\n",
       "      <td>11834</td>\n",
       "    </tr>\n",
       "  </tbody>\n",
       "</table>\n",
       "</div>"
      ],
      "text/plain": [
       "V9122   Aposentado\n",
       "V06112            \n",
       "Sim           7383\n",
       "Não          11834"
      ]
     },
     "execution_count": 143,
     "metadata": {},
     "output_type": "execute_result"
    }
   ],
   "source": [
    "tem_celular_11 = pnad2011.V06112\n",
    "tem_celular_11 = tem_celular_11.astype('category')\n",
    "tem_celular_11.cat.categories = (\"Sim\",\"Não\")\n",
    "tem_celular_aposentados_11 = pd.crosstab(tem_celular_11, ap_maior_de_15_11[(pnad2011.IDOSO == 'True')])\n",
    "tabcel_11 = tem_celular_aposentados_11.iloc[:,0:1]\n",
    "tabcel_11"
   ]
  },
  {
   "cell_type": "code",
   "execution_count": 162,
   "metadata": {
    "collapsed": false,
    "scrolled": false
   },
   "outputs": [
    {
     "data": {
      "text/plain": [
       "<matplotlib.text.Text at 0x630bd7d6a0>"
      ]
     },
     "execution_count": 162,
     "metadata": {},
     "output_type": "execute_result"
    },
    {
     "data": {
      "image/png": "[encoded data removed]",
      "text/plain": [
       "<matplotlib.figure.Figure at 0x63117f8358>"
      ]
     },
     "metadata": {},
     "output_type": "display_data"
    },
    {
     "data": {
      "image/png": "[encoded data removed]",
      "text/plain": [
       "<matplotlib.figure.Figure at 0x630c016c88>"
      ]
     },
     "metadata": {},
     "output_type": "display_data"
    }
   ],
   "source": [
    "freq = tabcel_11*100/tabcel_11.sum()\n",
    "freq.plot(kind='bar')\n",
    "plt.title(\"Aposentados que possuem Celular 2011\")\n",
    "\n",
    "freq = tabcel*100/tabcel.sum()\n",
    "freq.plot(kind='bar')\n",
    "plt.title(\"Aposentados que possuem Celular 2014\")"
   ]
  },
  {
   "cell_type": "markdown",
   "metadata": {},
   "source": [
    "## Da variável \"Possui celular\", podemos concluir que entre os aposentados, o acesso a tecnologia por celulares cresceu de 2011 para 2014, já que em 2011 haviam mais aposentados sem celulares enquanto em 2014 cerca da metade deles possuem."
   ]
  },
  {
   "cell_type": "code",
   "execution_count": 62,
   "metadata": {
    "collapsed": false
   },
   "outputs": [
    {
     "data": {
      "text/plain": [
       "<matplotlib.text.Text at 0x630f84e7b8>"
      ]
     },
     "execution_count": 62,
     "metadata": {},
     "output_type": "execute_result"
    },
    {
     "data": {
      "image/png": "[encoded data removed]",
      "text/plain": [
       "<matplotlib.figure.Figure at 0x630f79d160>"
      ]
     },
     "metadata": {},
     "output_type": "display_data"
    },
    {
     "data": {
      "image/png": "[encoded data removed]",
      "text/plain": [
       "<matplotlib.figure.Figure at 0x630f867860>"
      ]
     },
     "metadata": {},
     "output_type": "display_data"
    }
   ],
   "source": [
    "tem_celular_jovens = pd.crosstab(tem_celular, pnad2014.INDIV)\n",
    "#tabcel = tem_celular_aposentados.iloc[:,0:1]\n",
    "tabcel_jovens = tem_celular_jovens.iloc[:,4:5]\n",
    "freq_jovens = tabcel_jovens*100/tabcel_jovens.sum()\n",
    "freq_jovens.plot(kind='bar')\n",
    "plt.title(\"Jovens que possuem telefone celular 2014\")\n",
    "\n",
    "tem_celular_jovens_11 = pd.crosstab(tem_celular_11, pnad2011.INDIV)\n",
    "#tabcel = tem_celular_aposentados.iloc[:,0:1]\n",
    "tabcel_jovens_11 = tem_celular_jovens_11.iloc[:,4:5]\n",
    "freq_jovens_11 = tabcel_jovens_11*100/tabcel_jovens_11.sum()\n",
    "freq_jovens_11.plot(kind='bar')\n",
    "plt.title(\"Jovens que possuem telefone celular 2011\")"
   ]
  },
  {
   "cell_type": "markdown",
   "metadata": {},
   "source": [
    "## Entre os jovens, o crescimento do acesso ao celular foi mais ameno devido ao fato de que ,em 2011, a maioria ja possuia celular próprio e, em 2014, uma parte ainda maior deles passou a possuir."
   ]
  },
  {
   "cell_type": "code",
   "execution_count": 163,
   "metadata": {
    "collapsed": false
   },
   "outputs": [
    {
     "data": {
      "text/plain": [
       "<matplotlib.text.Text at 0x630be186a0>"
      ]
     },
     "execution_count": 163,
     "metadata": {},
     "output_type": "execute_result"
    },
    {
     "data": {
      "image/png": "[encoded data removed]",
      "text/plain": [
       "<matplotlib.figure.Figure at 0x630bd93710>"
      ]
     },
     "metadata": {},
     "output_type": "display_data"
    },
    {
     "data": {
      "image/png": "[encoded data removed]",
      "text/plain": [
       "<matplotlib.figure.Figure at 0x630be31e80>"
      ]
     },
     "metadata": {},
     "output_type": "display_data"
    }
   ],
   "source": [
    "int_pc = pnad2014.V061112\n",
    "int_pc = int_pc.astype('category')\n",
    "int_pc.cat.categories = (\"Sim\",\"Não\")\n",
    "\n",
    "int_pc_jovens = pd.crosstab(int_pc, pnad2014.INDIV)\n",
    "pc_jovens = int_pc_jovens.iloc[:,4:5]\n",
    "freq = pc_jovens*100/pc_jovens.sum()\n",
    "freq.plot(kind='bar')\n",
    "plt.title(\"O acesso a internet foi feito através de um microcomputador - Jovens\")\n",
    "\n",
    "int_pc_aposentados = pd.crosstab(int_pc, ap_maior_de_15[(pnad2014.IDOSO == 'True')])\n",
    "pc_aposentados = int_pc_aposentados.iloc[:,0:1]\n",
    "freq = pc_aposentados*100/pc_aposentados.sum()\n",
    "freq.plot(kind='bar')\n",
    "plt.title(\"O acesso a internet foi feito através de um microcomputador - Aposentados\")\n",
    "\n"
   ]
  },
  {
   "cell_type": "markdown",
   "metadata": {},
   "source": [
    "## Aqui, apesar da maioria dos jovens acessar a internet através do computador, percebemos que os idosos apresentam uma quantidade maior de indivíduos que a acessam através dele. Portanto, apesar de jovens possuirem o hábito de utilizar a internet por meio de celulares, os idosos possuem um hábito maior de acessa-lá pelo computador"
   ]
  },
  {
   "cell_type": "code",
   "execution_count": 216,
   "metadata": {
    "collapsed": false
   },
   "outputs": [
    {
     "name": "stdout",
     "output_type": "stream",
     "text": [
      "0.428724318201\n"
     ]
    },
    {
     "data": {
      "image/png": "[encoded data removed]",
      "text/plain": [
       "<matplotlib.figure.Figure at 0x630d8ec978>"
      ]
     },
     "metadata": {},
     "output_type": "display_data"
    }
   ],
   "source": [
    "pnad2014.plot.scatter(x='V8005', y='V06111', color='Red')\n",
    "plt.title(\"Utilização da internet pela idade\")\n",
    "print(pnad2014.V8005.corr(pnad2014.V06111))"
   ]
  },
  {
   "cell_type": "markdown",
   "metadata": {},
   "source": [
    "## No gráfico acima, apenas para efeitos de embasamento teórico e analítico, temos um gráfico de dispersão na qual temos a relação entre a utilização da internet pela idade. Atráves de um coeficiente chamado de Correlação podemos dizer o quanto estas varáveis são relacionadas, com este coeficiente podendo variar de -1 a 1. Neste caso, a correlação nos forneceu um valor de 0.428 aproximadamente, o que, considerando o número expressivo de dados (número de pessoas) do PNAD 2014 (362 mil pessoas) podemos considerar como uma boa relação entre as variáveis, fazendo com que nosso estudo de comparação seja válido e significativo."
   ]
  },
  {
   "cell_type": "markdown",
   "metadata": {},
   "source": [
    "## Um fator importante para o acesso a tecnologia é a renda, já que para se comprar um celular, por exemplo, deve-se ter recursos financeiros necessários para tal compra."
   ]
  },
  {
   "cell_type": "code",
   "execution_count": 220,
   "metadata": {
    "collapsed": false
   },
   "outputs": [
    {
     "name": "stdout",
     "output_type": "stream",
     "text": [
      "0.206811190671\n"
     ]
    },
    {
     "data": {
      "image/png": "[encoded data removed]",
      "text/plain": [
       "<matplotlib.figure.Figure at 0x6312ac0588>"
      ]
     },
     "metadata": {},
     "output_type": "display_data"
    }
   ],
   "source": [
    "pnad2014.V4720 = pnad2014.V4720[(pnad2014.V4720 != 999999999999)]\n",
    "pnad2014.plot.scatter(x='V8005', y='V4720', color='Red')\n",
    "plt.title(\"Gráfico de dispersão entre Idade e Renda\")\n",
    "print(pnad2014.V8005.corr(pnad2014.V4720))"
   ]
  },
  {
   "cell_type": "markdown",
   "metadata": {},
   "source": [
    "## Para analisarmos a renda, avaliaremos a diferença da renda entre Idosos Aposentados para anos diferentes."
   ]
  },
  {
   "cell_type": "code",
   "execution_count": 212,
   "metadata": {
    "collapsed": false
   },
   "outputs": [
    {
     "data": {
      "text/plain": [
       "count     18677.000000\n",
       "mean       1308.953526\n",
       "std        2313.161767\n",
       "min         545.000000\n",
       "25%         545.000000\n",
       "50%         550.000000\n",
       "75%        1100.000000\n",
       "max      115000.000000\n",
       "Name: V4720, dtype: float64"
      ]
     },
     "execution_count": 212,
     "metadata": {},
     "output_type": "execute_result"
    }
   ],
   "source": [
    "idosos_e_aposentados_11 = pnad2011[(pnad2011.IDOSO == 'True') & (pnad2011.V9122 == 2)]\n",
    "renda_idosos_e_aposentados_11 = idosos_e_aposentados_11.V4720[(pnad2011.V4720 < 300000)]\n",
    "renda_idosos_e_aposentados_11.describe()"
   ]
  },
  {
   "cell_type": "code",
   "execution_count": 190,
   "metadata": {
    "collapsed": false
   },
   "outputs": [
    {
     "data": {
      "text/plain": [
       "count     21256.000000\n",
       "mean       1741.038248\n",
       "std        3463.113034\n",
       "min         620.000000\n",
       "25%         724.000000\n",
       "50%         794.000000\n",
       "75%        1500.000000\n",
       "max      331200.000000\n",
       "Name: V4720, dtype: float64"
      ]
     },
     "execution_count": 190,
     "metadata": {},
     "output_type": "execute_result"
    }
   ],
   "source": [
    "idosos_e_aposentados = pnad2014[(pnad2014.IDOSO == 'True') & (pnad2014.V9122 == 2)]\n",
    "renda_idosos_e_aposentados = idosos_e_aposentados.V4720[(pnad2014.V4720 != 999999999999)]\n",
    "renda_idosos_e_aposentados.describe()"
   ]
  },
  {
   "cell_type": "code",
   "execution_count": 211,
   "metadata": {
    "collapsed": false
   },
   "outputs": [
    {
     "data": {
      "text/plain": [
       "<matplotlib.text.Text at 0x630d99e828>"
      ]
     },
     "execution_count": 211,
     "metadata": {},
     "output_type": "execute_result"
    },
    {
     "data": {
      "image/png": "[encoded data removed]",
      "text/plain": [
       "<matplotlib.figure.Figure at 0x630d7a85f8>"
      ]
     },
     "metadata": {},
     "output_type": "display_data"
    }
   ],
   "source": [
    "renda_idosos_e_aposentados_11[(pnad2011.V4720 < 2000)].plot.hist(bins=20)\n",
    "renda_idosos_e_aposentados[(pnad2014.V4720 < 2000)].plot.hist(bins=20, color=\"red\")\n",
    "plt.title(\"Histograma da renda de aposentados idosos e aposentados em 2011 e 2014\")"
   ]
  },
  {
   "cell_type": "markdown",
   "metadata": {},
   "source": [
    "## Através da análise da sobreposição dos histogramas, é fácil perceber que a faixa de renda dos idosos aumentou. Através dos valores mostrados pelo método describe confirmamos isso, já que a média de renda dos aposentados e idosos cresceu de um ano para o outro."
   ]
  },
  {
   "cell_type": "markdown",
   "metadata": {},
   "source": [
    "# Conclusão"
   ]
  },
  {
   "cell_type": "markdown",
   "metadata": {},
   "source": [
    "### Resumo"
   ]
  },
  {
   "cell_type": "markdown",
   "metadata": {},
   "source": [
    "- Como dito no início, o objetivo desta pesquisa era de mostrar a diferença do acesso a tecnologia entre Idosos/Aposentados e Jovense mostrar um pouco desta diferença de realidades, mostrar o impacto de uma mudança de gerações, que apesar de tentarem se apoioarem uma na outra, ainda sobram diferenças imensas. Além disso, esta pesquisa visa mostrar o quanto é necessário o desenvolvimento de tecnologia especialmente para Idosos e Aposentados, já que quase 20% da população é idosa (Aprox. 200 mil habitantes). Consequente disto, também queriamos mostrar o acesso da tecnologia por idosos em 2011 e compará-la com a de 2014, desta forma conseguiríamos concluir se realmente a tecnologia avança para os idosos ou não.\n",
    "- Assim, começamos mostrando que houve um aumento de 1% do número de idosos de 2011 para 2014 e que este aumento seguiu-se no número de aposentados. A seguir mostramos um Histograma da variável idade e BoxPlots das idades por região em 2011 e 2014, com a finalidade de mostrar que os Brasileiros estão ficando mais velhos ao longo dos anos. Isso tudo serviu de introdução para entendermos a situação dos idosos/Aposentados no país.\n",
    "- Para a análise de fato, iniciamos pela variável Acesso a Internet nos Últimos 3 meses para concluir que em 2011 tinhamos mais de 50% dos aposentados com acesso a internet enquanto que em 2014 temos apenas 10% de aposentados que acessam a internet, o que representa um grande retrocesso, diferente do que ocorreu para jovens que de 2011 para 2014 o acesso a internet cresceu significativamente. \n",
    "- Da variável \"Possui celular\", podemos concluir que entre os aposentados, o acesso a tecnologia por celulares cresceu de 2011 para 2014, já que em 2011 haviam mais aposentados sem celulares enquanto em 2014 cerca da metade deles possuem. Para Jovens o crescimento do acesso ao celular foi mais ameno devido ao fato de que ,em 2011, a maioria ja possuia celular próprio e, em 2014, uma parte ainda maior deles passou a ter um.\n",
    "- Na variável \"O acesso a internet foi feito através de um microcomputador\" concluimos que apesar da maioria dos jovens acessar a internet através do computador, percebemos que os idosos apresentam uma quantidade maior de indivíduos que a acessam através dele. Portanto, os idosos possuem um hábito maior de acessar a internet pelo computador. Isto nos leva a pensar em como fazer ainda mais idosos e aposentados acessarem ainda mais computadores, já que ele mostrou-se como a tecnologia \"preferida\".\n",
    "- Depois, apenas para efeitos de embasamento teórico e analítico, vimos um gráfico de dispersão na qual temos a relação entre a utilização da internet pela idade. Atráves de um coeficiente chamado de Correlação podemos dizer o quanto estas varáveis são relacionadas, com este coeficiente podendo variar de -1 a 1. Neste caso, a correlação nos forneceu um valor de 0.428 aproximadamente, o que, considerando o número expressivo de dados (número de pessoas) do PNAD 2014 (362 mil pessoas) podemos considerar como uma boa relação entre as variáveis, fazendo com que nosso estudo de comparação seja válido e significativo.\n",
    "- Como a renda também é um fator que interfere no acesso a tecnologia, comparamos a renda de aposentados que são idosos e de aposentados que não são idosos. Assim, chegamos a conclusão de que a renda provinda do inss é maior para aqueles que são idosos.\n",
    "    "
   ]
  },
  {
   "cell_type": "markdown",
   "metadata": {},
   "source": [
    "### Conclusão Final"
   ]
  },
  {
   "cell_type": "markdown",
   "metadata": {},
   "source": [
    "Com toda essa pesquisa, terminamos concluindo que é preciso investir em tecnologia para idosos e aposentados já que estes vem crescendo e representarão uma parte do todo cada vez maior. Assim, deve-se seguir o exemplo do que ocorre com os jovens, que crescem na área tecnológica todos os anos. Um maior acesso a tecnologia providencia maiores benefícios, pois também proporciona uma maior disponibilidade de informações e consequentemente uma qualidade de vida maior. "
   ]
  },
  {
   "cell_type": "code",
   "execution_count": null,
   "metadata": {
    "collapsed": true
   },
   "outputs": [],
   "source": []
  }
 ],
 "metadata": {
  "anaconda-cloud": {},
  "kernelspec": {
   "display_name": "Python [default]",
   "language": "python",
   "name": "python3"
  },
  "language_info": {
   "codemirror_mode": {
    "name": "ipython",
    "version": 3
   },
   "file_extension": ".py",
   "mimetype": "text/x-python",
   "name": "python",
   "nbconvert_exporter": "python",
   "pygments_lexer": "ipython3",
   "version": "3.5.2"
  }
 },
 "nbformat": 4,
 "nbformat_minor": 0
}
