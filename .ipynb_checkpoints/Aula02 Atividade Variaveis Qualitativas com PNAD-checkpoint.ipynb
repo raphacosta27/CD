{
 "cells": [
  {
   "cell_type": "markdown",
   "metadata": {},
   "source": [
    "___\n",
    "# Atividade: Variáveis qualitativas com a PNAD (ALUNOS)\n",
    "___\n",
    "\n",
    "## Aula 02\n",
    "\n",
    "\n",
    "**Link úteis:**\n",
    "1.\tLeitura prévia necessária: Magalhães e Lima (7ª. Edição): pág. 9 a 16 – destacando para variáveis qualitativas.\n",
    "2.\t10 Minutes to Pandas: http://pandas.pydata.org/pandas-docs/stable/10min.html\n",
    "3.\tEssential Basic Functionality: http://pandas.pydata.org/pandas-docs/stable/basics.html\n",
    "4.  Estude a aula `Aula02 Análise Exploratoria Variáveis Qualitativas-ALUNOS.ipynb`, o qual contém uma introdução ao Jupyter Notebook. A publicação dessa aula tem como objetivo auxiliá-lo, caso queira, no desenvolvimento dos seus próximos programas, como esta atividade.\n",
    "\n",
    "**Hoje:**\n",
    "1.\tAnalisar variáveis qualitativas de forma uni e bivariadas utilizando tabelas de frequências e gráficos de barras e de pizza (ou setor).\n",
    "2.  Trabalhar com a base de dados da PNAD 2013 - Pesquisa Nacional por Amostra de Domicílios\n",
    "\n",
    "**Próxima aula:**\n",
    "1.\tLeitura prévia necessária: Magalhães e Lima (7ª. Edição): pág. 9 a 17 – destacando para variáveis quantitativas; pág. 106 e 107 (Definição 4.1 e Exemplo 4.1).\n",
    "\n",
    "___\n"
   ]
  },
  {
   "cell_type": "markdown",
   "metadata": {},
   "source": [
    "___\n",
    "## <font color='blue'>PNAD 2013 – PESQUISA NACIONAL POR AMOSTRA DE DOMICÍLIOS</font>\n",
    "\n",
    "**Base de dados reduzida: ** `pes2013A.txt` (75 MB)\n",
    "[Acesse a base de dados aqui: https://dl.dropboxusercontent.com/u/65763596/Aula02/pes2013A.txt] \n",
    "\n",
    "**Dicionário das variáveis: ** `Dicionário de variáveis de pessoas - PNAD 2013.xlsx`\n",
    "[Acesse dicionário aqui: https://dl.dropboxusercontent.com/u/65763596/Aula02/Dicion%C3%A1rio%20de%20vari%C3%A1veis%20de%20pessoas%20-%20PNAD%202013.xls]\n",
    "\n",
    "\n",
    "Muitos especialistas na área de negócios dizem que empresários mais bem sucedidos são aqueles que fazem um planejamento antes de começar seu próprio negócio. Nessa visão, imagine que o Sr. Gold tenha como grande objetivo abrir uma nova faculdade e para isso deseja estudar o perfil do estudante que cursa ensino médio ou pré-vestibular e do que cursa ensino superior. \n",
    "\n",
    "Assuma que as variáveis de interesse a respeito dos estudantes sejam relativamente as mesmas de 2013 até o momento atual. Nesse caso, seja criativo para ajudar o Sr. Gold que deseja abrir seu negócio, mas não tem certeza sobre quais variáveis o interessam. \n",
    "\n",
    "Vocês podem ajudá-lo?!  \n",
    "\n",
    "As variáveis a seguir devem fazer parte da sua análise:\n",
    "\n",
    "* V0302: sexo\n",
    "* V0404: cor ou raça\n",
    "* V6002: rede de ensino\n",
    "* V4802: nível de ensino e grupos de séries do ensino fundamental que frequentavam (todos os estudantes)\n",
    "\n",
    "** Crie uma variável com região do indivíduo amostrado considerando a variável `UF` que define o estado e também trabalhe com essa nova variável em suas análises. ** \n",
    "\n",
    "** Escolha mais pelo menos DUAS variáveis qualitativas para completar sua análise!! **\n",
    "\n",
    "Faça uma análise exploratória apenas com as variáveis qualitativas com foco no objetivo do Sr. Gold.\n",
    "\n",
    "Sua análise deve conter pelo menos uma das seguintes visualizações:\n",
    "\n",
    "1. Gráfico de colunas (bar) e setor (pie) com as frequências relativas cadas categorias das variáveis qualitativas.\n",
    "2. Tabela cruzada entre pares de variaveis qualitativas. Montar o gráfico de colunas. Repetir o processo habilitando a opção \"stacked=True\".\n",
    "\n",
    "\n",
    "___\n",
    "\n",
    "\n",
    "\n",
    "<font color='red'>\n",
    "Crie um repositório chamado CD em seu Github\n",
    "</font>\n",
    "\n",
    "\n",
    "Neste repositório, salve seu trabalho numa pasta chamada aula2\n",
    "\n",
    "Por exemplo, se seu login for *pikachu* o projeto vai estar na pasta:\n",
    "\n",
    "https://github.com/<font color=red>pikachu/CD/aula2</font>\n",
    "\n",
    "\n",
    "\n",
    "## <font color='red'>Terça-feira (dia 16/08), no horário de atendimento da sua turma, deverá apresentar aos NINJAS!!</font>\n",
    "___"
   ]
  },
  {
   "cell_type": "code",
   "execution_count": null,
   "metadata": {
    "collapsed": false
   },
   "outputs": [],
   "source": [
    "%matplotlib inline\n",
    "import pandas as pd\n",
    "import matplotlib.pyplot as plt\n",
    "import os"
   ]
  },
  {
   "cell_type": "code",
   "execution_count": null,
   "metadata": {
    "collapsed": false
   },
   "outputs": [],
   "source": [
    "print('Esperamos trabalhar no diretório')\n",
    "print(os.getcwd())"
   ]
  },
  {
   "cell_type": "code",
   "execution_count": null,
   "metadata": {
    "collapsed": false
   },
   "outputs": [],
   "source": [
    "notas = pd.read_table(\"pes2013A.txt\", sep=\" \")"
   ]
  },
  {
   "cell_type": "code",
   "execution_count": null,
   "metadata": {
    "collapsed": false
   },
   "outputs": [],
   "source": [
    "notas.sort_values(by=\"V0302\")"
   ]
  },
  {
   "cell_type": "code",
   "execution_count": null,
   "metadata": {
    "collapsed": false
   },
   "outputs": [],
   "source": [
    "notas.V0302 = notas.V0302.astype('category')"
   ]
  },
  {
   "cell_type": "code",
   "execution_count": null,
   "metadata": {
    "collapsed": false
   },
   "outputs": [],
   "source": [
    "notas.V0302\n"
   ]
  },
  {
   "cell_type": "code",
   "execution_count": null,
   "metadata": {
    "collapsed": true
   },
   "outputs": [],
   "source": [
    "notas.V0302.cat.categories = ('Masculino', 'Feminino')"
   ]
  },
  {
   "cell_type": "code",
   "execution_count": null,
   "metadata": {
    "collapsed": false
   },
   "outputs": [],
   "source": [
    "notas.V0302.value_counts()"
   ]
  },
  {
   "cell_type": "code",
   "execution_count": null,
   "metadata": {
    "collapsed": false
   },
   "outputs": [],
   "source": [
    "notas.V0302.value_counts(True)"
   ]
  },
  {
   "cell_type": "code",
   "execution_count": null,
   "metadata": {
    "collapsed": false
   },
   "outputs": [],
   "source": [
    "sexo_count = notas.V0302.value_counts(True) * 100"
   ]
  },
  {
   "cell_type": "code",
   "execution_count": null,
   "metadata": {
    "collapsed": false
   },
   "outputs": [],
   "source": [
    "sexo_count.plot(kind='pie', colors=('blue', 'red'), autopct=\"%.2f\", legend=False)\n",
    "\n"
   ]
  },
  {
   "cell_type": "code",
   "execution_count": null,
   "metadata": {
    "collapsed": false
   },
   "outputs": [],
   "source": [
    "notas.V0404 = notas.V0404.astype('category')"
   ]
  },
  {
   "cell_type": "code",
   "execution_count": null,
   "metadata": {
    "collapsed": false
   },
   "outputs": [],
   "source": [
    "notas.V0404"
   ]
  },
  {
   "cell_type": "code",
   "execution_count": null,
   "metadata": {
    "collapsed": false
   },
   "outputs": [],
   "source": [
    "notas.V0404.cat.categories = ('Indígena', 'Branca', 'Preta', 'Amarela', 'Parda')"
   ]
  },
  {
   "cell_type": "code",
   "execution_count": null,
   "metadata": {
    "collapsed": false
   },
   "outputs": [],
   "source": [
    "notas.V0404.value_counts()"
   ]
  },
  {
   "cell_type": "code",
   "execution_count": null,
   "metadata": {
    "collapsed": false
   },
   "outputs": [],
   "source": [
    "notas.V0404.value_counts(True) * 100"
   ]
  },
  {
   "cell_type": "code",
   "execution_count": null,
   "metadata": {
    "collapsed": true
   },
   "outputs": [],
   "source": [
    "raça_percent = notas.V0404.value_counts(True) * 100"
   ]
  },
  {
   "cell_type": "code",
   "execution_count": null,
   "metadata": {
    "collapsed": false
   },
   "outputs": [],
   "source": [
    "raça_percent.plot(kind='pie', colors=('yellow', 'salmon', 'blue', 'red', 'green'), autopct=\"%.2f\", legend=False)"
   ]
  },
  {
   "cell_type": "code",
   "execution_count": null,
   "metadata": {
    "collapsed": false
   },
   "outputs": [],
   "source": [
    "notas.V6002 = notas.V6002.astype('category')"
   ]
  },
  {
   "cell_type": "code",
   "execution_count": null,
   "metadata": {
    "collapsed": false
   },
   "outputs": [],
   "source": [
    "notas.V6002"
   ]
  },
  {
   "cell_type": "code",
   "execution_count": null,
   "metadata": {
    "collapsed": false
   },
   "outputs": [],
   "source": [
    "notas.V6002.cat.categories = ('Pública','Privada')"
   ]
  },
  {
   "cell_type": "code",
   "execution_count": null,
   "metadata": {
    "collapsed": false
   },
   "outputs": [],
   "source": [
    "instensino = notas.V6002.value_counts(True)"
   ]
  },
  {
   "cell_type": "code",
   "execution_count": null,
   "metadata": {
    "collapsed": false
   },
   "outputs": [],
   "source": [
    "instensino.plot(kind='bar', color=('blue', 'red'), legend=False)"
   ]
  },
  {
   "cell_type": "code",
   "execution_count": null,
   "metadata": {
    "collapsed": true
   },
   "outputs": [],
   "source": [
    "notas.V4802 = notas.V4802.astype('category')"
   ]
  },
  {
   "cell_type": "code",
   "execution_count": null,
   "metadata": {
    "collapsed": false
   },
   "outputs": [],
   "source": [
    "notas.V4802"
   ]
  },
  {
   "cell_type": "code",
   "execution_count": null,
   "metadata": {
    "collapsed": true
   },
   "outputs": [],
   "source": [
    "notas.V4802.cat.categories = ('Maternal, jardim de infância etc.', \"Classe de alfabetização\", \"Alfabetização de adultos\",\n",
    "                              \"1ª a 4ª séries do ensino fundamental regular em 8 anos ou de educação de jovens e adultos\",\n",
    "                              \"5ª a 8ª séries do ensino fundamental regular em 8 anos ou de educação de jovens e adultos\",\n",
    "                              \"1ª série do ensino fundamental regular em 9 anos\", \"2ª a 5ª séries do ensino fundamental regular em 9 anos \",\n",
    "                              \"6ª a 9ª séries do ensino fundamental regular em 9 anos \",\n",
    "                              \"Educação de jovens e adultos não seriado do ensino fundamental\",\n",
    "                              \"Ensino médio, inclusive pré-vestibular\",\n",
    "                              \"Superior, inclusive mestrado ou doutorado\")"
   ]
  },
  {
   "cell_type": "code",
   "execution_count": null,
   "metadata": {
    "collapsed": false
   },
   "outputs": [],
   "source": [
    "nensino = notas.V4802.value_counts()"
   ]
  },
  {
   "cell_type": "code",
   "execution_count": null,
   "metadata": {
    "collapsed": false
   },
   "outputs": [],
   "source": [
    "nensino.plot(kind='bar', color=('blue', 'red', 'yellow','orange','black'), legend=False)"
   ]
  },
  {
   "cell_type": "code",
   "execution_count": null,
   "metadata": {
    "collapsed": true
   },
   "outputs": [],
   "source": []
  }
 ],
 "metadata": {
  "anaconda-cloud": {},
  "kernelspec": {
   "display_name": "Python 3",
   "language": "python",
   "name": "python3"
  },
  "language_info": {
   "codemirror_mode": {
    "name": "ipython",
    "version": 3
   },
   "file_extension": ".py",
   "mimetype": "text/x-python",
   "name": "python",
   "nbconvert_exporter": "python",
   "pygments_lexer": "ipython3",
   "version": "3.5.2"
  }
 },
 "nbformat": 4,
 "nbformat_minor": 0
}
